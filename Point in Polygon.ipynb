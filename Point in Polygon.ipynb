{
 "cells": [
  {
   "cell_type": "code",
   "execution_count": 5,
   "metadata": {},
   "outputs": [],
   "source": [
    "import numpy as np\n",
    "import sympy.geometry as sp\n",
    "from poly_poly_intersect import * "
   ]
  },
  {
   "cell_type": "code",
   "execution_count": 8,
   "metadata": {},
   "outputs": [],
   "source": [
    "def left(a,b,c):\n",
    "    '''\n",
    "    Calculate cross product between vectors AB and AC\n",
    "    If positive, c is to the left of line ab, return True\n",
    "    '''\n",
    "    V = b - a\n",
    "    U = c - a\n",
    "    area = np.cross(V, U)\n",
    "    return area > 0\n",
    "\n",
    "def point_in_polygon(P, a):\n",
    "    '''\n",
    "    Check if point a is inside polygon P\n",
    "    If it is, return a \n",
    "    '''\n",
    "    \n",
    "    # Assure that P is convex and its points are in counter-clockwise order \n",
    "    P = gift_wrapper(P)\n",
    "    \n",
    "    n = len(P)\n",
    "    for i in range(n):\n",
    "        j = (i+1)%n\n",
    "        if not left(P[i], P[j], a):\n",
    "            return False\n",
    "    \n",
    "    return True\n",
    "    "
   ]
  },
  {
   "cell_type": "code",
   "execution_count": 16,
   "metadata": {},
   "outputs": [
    {
     "data": {
      "text/plain": [
       "True"
      ]
     },
     "execution_count": 16,
     "metadata": {},
     "output_type": "execute_result"
    }
   ],
   "source": [
    "point = [3,4]\n",
    "pol1 = np.array([[0,0], [3, 5], [6,0]]) \n",
    "point_in_polygon(pol1, point)"
   ]
  },
  {
   "cell_type": "code",
   "execution_count": 17,
   "metadata": {},
   "outputs": [
    {
     "data": {
      "text/plain": [
       "True"
      ]
     },
     "execution_count": 17,
     "metadata": {},
     "output_type": "execute_result"
    }
   ],
   "source": [
    "P = sp.Polygon(*pol1)\n",
    "a = sp.Point(point)\n",
    "P.encloses_point(a)"
   ]
  },
  {
   "cell_type": "code",
   "execution_count": 22,
   "metadata": {},
   "outputs": [],
   "source": [
    "def polygon_inside_points(P, Q):\n",
    "    '''\n",
    "    Check which vertices of P are inside Q and return them\n",
    "    '''\n",
    "    points = []\n",
    "    for point in P:\n",
    "        i = point_in_polygon(Q)\n",
    "        if i:\n",
    "            points.append()\n",
    "    return points"
   ]
  },
  {
   "cell_type": "code",
   "execution_count": 21,
   "metadata": {},
   "outputs": [
    {
     "data": {
      "text/plain": [
       "[3, 2, 6]"
      ]
     },
     "execution_count": 21,
     "metadata": {},
     "output_type": "execute_result"
    }
   ],
   "source": [
    "p = [2,6]\n",
    "q = []\n",
    "q.append(3)\n",
    "q.extend(p)\n",
    "q"
   ]
  }
 ],
 "metadata": {
  "kernelspec": {
   "display_name": "Python 3",
   "language": "python",
   "name": "python3"
  },
  "language_info": {
   "codemirror_mode": {
    "name": "ipython",
    "version": 3
   },
   "file_extension": ".py",
   "mimetype": "text/x-python",
   "name": "python",
   "nbconvert_exporter": "python",
   "pygments_lexer": "ipython3",
   "version": "3.6.3"
  }
 },
 "nbformat": 4,
 "nbformat_minor": 2
}
