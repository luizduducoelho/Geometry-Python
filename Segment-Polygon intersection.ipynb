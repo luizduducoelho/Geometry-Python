{
 "cells": [
  {
   "cell_type": "code",
   "execution_count": 1,
   "metadata": {},
   "outputs": [],
   "source": [
    "import numpy as np\n",
    "import sympy.geometry as sp\n",
    "from line_segment_time import *\n",
    "from poly_poly_intersect import * "
   ]
  },
  {
   "cell_type": "code",
   "execution_count": 15,
   "metadata": {},
   "outputs": [],
   "source": [
    "def segment_polygon_intersection(P, seg):\n",
    "    '''\n",
    "    Return the intersection points between a segment and Polygon\n",
    "    The output is a list of numpy arrays \n",
    "    '''\n",
    "    n = len(P)\n",
    "    points = []\n",
    "    for i in range(n):\n",
    "        j = (i+1)%n\n",
    "        edge = np.array([P[i], P[j]])\n",
    "        p = segment_intersection(edge, seg)\n",
    "        if len(p)>0: # In the case collinear segments\n",
    "            points.extend(p)\n",
    "    if points:\n",
    "        return list(np.unique(points, axis=0))\n",
    "    else:\n",
    "        return []"
   ]
  },
  {
   "cell_type": "code",
   "execution_count": 29,
   "metadata": {},
   "outputs": [
    {
     "data": {
      "text/plain": [
       "[array([1.5, 2.5]), array([4.5, 2.5])]"
      ]
     },
     "execution_count": 29,
     "metadata": {},
     "output_type": "execute_result"
    }
   ],
   "source": [
    "pol1 = np.array([[0, 0], [3, 5], [6, 0]]) \n",
    "seg = np.array([[0, 2.5], [8, 2.5]])\n",
    "\n",
    "\n",
    "i = segment_polygon_intersection(pol1, seg)\n",
    "i"
   ]
  }
 ],
 "metadata": {
  "kernelspec": {
   "display_name": "Python 3",
   "language": "python",
   "name": "python3"
  },
  "language_info": {
   "codemirror_mode": {
    "name": "ipython",
    "version": 3
   },
   "file_extension": ".py",
   "mimetype": "text/x-python",
   "name": "python",
   "nbconvert_exporter": "python",
   "pygments_lexer": "ipython3",
   "version": "3.6.3"
  }
 },
 "nbformat": 4,
 "nbformat_minor": 2
}
