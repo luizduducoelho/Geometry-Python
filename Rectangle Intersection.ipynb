{
 "cells": [
  {
   "cell_type": "code",
   "execution_count": 11,
   "metadata": {},
   "outputs": [],
   "source": [
    "import numpy as np \n",
    "import sympy.geometry as sp\n",
    "import cProfile\n",
    "from area_intersect import polygon_intersect_area\n",
    "from point_in_polygon import polygon_inside_points\n",
    "from segment_polygon_intersection import segment_polygon_intersection\n",
    "from poly_poly_intersect import polygon_area, gift_wrapper"
   ]
  },
  {
   "cell_type": "code",
   "execution_count": 2,
   "metadata": {},
   "outputs": [],
   "source": [
    "%load_ext line_profiler"
   ]
  },
  {
   "cell_type": "code",
   "execution_count": 26,
   "metadata": {},
   "outputs": [],
   "source": [
    "def rectangle_intersection(P, Q):\n",
    "    \n",
    "    if len(P) != 4 or len(Q) != 4:\n",
    "        raise ValueError('There are non rectangles in the input!')\n",
    "    \n",
    "    # Test for convexity\n",
    "    P = gift_wrapper(P)\n",
    "    Q = gift_wrapper(Q)\n",
    "    assert len(P) == 4, \"First polygon is not convex\"\n",
    "    assert len(Q) == 4, \"Second polygon is not convex\"\n",
    "    \n",
    "    I = []\n",
    "        \n",
    "    # Search for border intersection\n",
    "    for i in range(4):\n",
    "        j = (i+1)%4\n",
    "        seg = [Q[i], Q[j]]\n",
    "        point = segment_polygon_intersection(P, seg)\n",
    "        \n",
    "        if len(point)>0:\n",
    "            I.extend(point)\n",
    "    \n",
    "    # Points of rectangle vertex inside the other\n",
    "    s = polygon_inside_points(P, Q)\n",
    "    t = polygon_inside_points(Q, P)\n",
    "\n",
    "    # Concatenate points \n",
    "    if len(t) > 0:\n",
    "        I = np.concatenate([I, t], axis=0)\n",
    "    if len(s) > 0:\n",
    "        I = np.concatenate([I, s], axis=0)\n",
    "    \n",
    "    return polygon_area(I)"
   ]
  },
  {
   "cell_type": "code",
   "execution_count": 17,
   "metadata": {},
   "outputs": [],
   "source": [
    "rec1 = np.array(([0,0], [5,0], [5,5], [0,5]))\n",
    "rec2 = np.array(([3, -1], [7, 3], [2, 8], [-2, 4]))"
   ]
  },
  {
   "cell_type": "code",
   "execution_count": 18,
   "metadata": {},
   "outputs": [],
   "source": [
    "R1 = sp.Polygon(*rec1)\n",
    "R2 = sp.Polygon(*rec2)"
   ]
  },
  {
   "cell_type": "markdown",
   "metadata": {},
   "source": [
    "## Sympy"
   ]
  },
  {
   "cell_type": "code",
   "execution_count": 19,
   "metadata": {},
   "outputs": [
    {
     "data": {
      "text/plain": [
       "15"
      ]
     },
     "execution_count": 19,
     "metadata": {},
     "output_type": "execute_result"
    }
   ],
   "source": [
    "I = sp.intersection(R1, R2)\n",
    "A = sp.Polygon(*I).area\n",
    "A"
   ]
  },
  {
   "cell_type": "code",
   "execution_count": 20,
   "metadata": {},
   "outputs": [
    {
     "name": "stdout",
     "output_type": "stream",
     "text": [
      "71.4 ms ± 1.66 ms per loop (mean ± std. dev. of 7 runs, 10 loops each)\n"
     ]
    }
   ],
   "source": [
    "smpt = %timeit -o sp.Polygon(*sp.intersection(R1, R2)).area"
   ]
  },
  {
   "cell_type": "markdown",
   "metadata": {},
   "source": [
    "## Generic Polygon"
   ]
  },
  {
   "cell_type": "code",
   "execution_count": 8,
   "metadata": {},
   "outputs": [
    {
     "data": {
      "text/plain": [
       "(22.5, array([[ 0.,  2.],\n",
       "        [ 2.,  0.],\n",
       "        [ 4.,  0.],\n",
       "        [ 5.,  1.],\n",
       "        [ 5.,  5.],\n",
       "        [ 0.,  5.]]))"
      ]
     },
     "execution_count": 8,
     "metadata": {},
     "output_type": "execute_result"
    }
   ],
   "source": [
    "parea = polygon_intersect_area(rec1, rec2)\n",
    "parea"
   ]
  },
  {
   "cell_type": "code",
   "execution_count": 29,
   "metadata": {},
   "outputs": [
    {
     "name": "stdout",
     "output_type": "stream",
     "text": [
      "2.39 ms ± 205 µs per loop (mean ± std. dev. of 7 runs, 100 loops each)\n"
     ]
    }
   ],
   "source": [
    "gnpt = %timeit -o polygon_intersect_area(rec1, rec2)"
   ]
  },
  {
   "cell_type": "code",
   "execution_count": 31,
   "metadata": {},
   "outputs": [],
   "source": [
    "%lprun -f polygon_intersect_area polygon_intersect_area(rec1, rec2)"
   ]
  },
  {
   "cell_type": "markdown",
   "metadata": {},
   "source": [
    "## Rectangle"
   ]
  },
  {
   "cell_type": "code",
   "execution_count": 23,
   "metadata": {},
   "outputs": [
    {
     "name": "stdout",
     "output_type": "stream",
     "text": [
      "[array([0, 5])]\n"
     ]
    },
    {
     "data": {
      "text/plain": [
       "22.5"
      ]
     },
     "execution_count": 23,
     "metadata": {},
     "output_type": "execute_result"
    }
   ],
   "source": [
    "recta = rectangle_intersection(rec1, rec2)\n",
    "recta"
   ]
  },
  {
   "cell_type": "code",
   "execution_count": 30,
   "metadata": {},
   "outputs": [
    {
     "name": "stdout",
     "output_type": "stream",
     "text": [
      "2.18 ms ± 173 µs per loop (mean ± std. dev. of 7 runs, 100 loops each)\n"
     ]
    }
   ],
   "source": [
    "rt = %timeit -o rectangle_intersection(rec1, rec2)"
   ]
  }
 ],
 "metadata": {
  "kernelspec": {
   "display_name": "Python 3",
   "language": "python",
   "name": "python3"
  },
  "language_info": {
   "codemirror_mode": {
    "name": "ipython",
    "version": 3
   },
   "file_extension": ".py",
   "mimetype": "text/x-python",
   "name": "python",
   "nbconvert_exporter": "python",
   "pygments_lexer": "ipython3",
   "version": "3.6.3"
  }
 },
 "nbformat": 4,
 "nbformat_minor": 2
}
