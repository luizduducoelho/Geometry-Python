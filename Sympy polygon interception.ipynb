{
 "cells": [
  {
   "cell_type": "markdown",
   "metadata": {},
   "source": [
    "## Imports "
   ]
  },
  {
   "cell_type": "code",
   "execution_count": 1,
   "metadata": {},
   "outputs": [],
   "source": [
    "import numpy as np \n",
    "import sympy.geometry as sp\n",
    "from time import clock "
   ]
  },
  {
   "cell_type": "markdown",
   "metadata": {},
   "source": [
    "## Sort polygon points counter-clockwise order   \n",
    "### Obs: Not used, gift_wrapper already does it"
   ]
  },
  {
   "cell_type": "code",
   "execution_count": 2,
   "metadata": {},
   "outputs": [],
   "source": [
    "def less(a, b, center):\n",
    "    \n",
    "    if a[0] - center[0] >= 0 and b[0] - center[0] < 0:\n",
    "        return 1\n",
    "    if a[0] - center[0] < 0 and b[0] - center[0] >= 0:\n",
    "        return -1\n",
    "    if a[0] - center[0] == 0 and b[0] - center[0] == 0:\n",
    "        if a[1] - center[1] >= 0 or b[1] - center[1] >=0:\n",
    "            return a[1] - b[1]\n",
    "        return b[1] - a[1]\n",
    "    \n",
    "    # Compute cross product of vectors a and b \n",
    "    cross = np.cross(a-center, b-center)\n",
    "    if cross < 0:\n",
    "        return 1\n",
    "    if cross > 0:\n",
    "        return -1\n",
    "    \n",
    "    # Points are in the same line from the center\n",
    "    # Check which is closer \n",
    "    d1 = np.sum((a-center)**2)\n",
    "    d2 = np.sum((b-center)**2)\n",
    "    return d1 - d2\n",
    "\n",
    "def cmp_to_key(mycmp, center):\n",
    "    'Convert a cmp= function into a key= function'\n",
    "    class K:\n",
    "        def __init__(self, obj, *args):\n",
    "            self.obj = obj\n",
    "        def __lt__(self, other):\n",
    "            return mycmp(self.obj, other.obj, center) < 0\n",
    "        def __gt__(self, other):\n",
    "            return mycmp(self.obj, other.obj, center) > 0\n",
    "        def __eq__(self, other):\n",
    "            return mycmp(self.obj, other.obj, center) == 0\n",
    "        def __le__(self, other):\n",
    "            return mycmp(self.obj, other.obj, center) <= 0\n",
    "        def __ge__(self, other):\n",
    "            return mycmp(self.obj, other.obj, center) >= 0\n",
    "        def __ne__(self, other):\n",
    "            return mycmp(self.obj, other.obj, center) != 0\n",
    "    return K\n",
    "    \n",
    "def counter_clockwise(points):\n",
    "    n = len(points)\n",
    "    center = np.sum(points, axis=0)/n\n",
    "    points = list(points)\n",
    "    points.sort(key=cmp_to_key(less, center))\n",
    "    return np.array(points) "
   ]
  },
  {
   "cell_type": "markdown",
   "metadata": {},
   "source": [
    "## Check if polygon is convex  -- Gift Wrapper"
   ]
  },
  {
   "cell_type": "code",
   "execution_count": 3,
   "metadata": {},
   "outputs": [],
   "source": [
    "def is_ccw(p1, p2, p3):  # Is CounterClockwise \n",
    "    # Checking if slope of p1p2 is less than slope of p2p3\n",
    "    s1 = (p2[1] - p1[1]) * (p3[0] - p2[0])\n",
    "    s2 = (p3[1] - p2[1]) * (p2[0] - p1[0]) \n",
    "    if s1 <= s2:\n",
    "        return True\n",
    "    else:\n",
    "        return False \n",
    "\n",
    "def gift_wrapper(np_points):\n",
    "    \n",
    "    # Number of points\n",
    "    n = len(np_points)\n",
    "    \n",
    "    # Find leftmost point \n",
    "    i0 = np.argmin(np_points, axis=0)[0]\n",
    "    point_on_hull = np_points[i0]\n",
    "    \n",
    "    # Creating Hull and its iterator \n",
    "    i = i0\n",
    "    H = []\n",
    "    \n",
    "    # Build the Hull until back to the first point \n",
    "    while True:\n",
    "        \n",
    "        # Adding point in the Hull \n",
    "        H.append(np_points[i])\n",
    "        \n",
    "        # k stores the point of smallest angle (ccw of all others), inicializing here \n",
    "        k = (i+1)%n\n",
    "        \n",
    "        # Loop on all the other points \n",
    "        for j in (x for x in range(n) if x != i):\n",
    "            if is_ccw(np_points[i], np_points[j], np_points[k]):  # If there is a point j more cck than the current, change\n",
    "                k = j \n",
    "        i = k\n",
    "        \n",
    "        if (i == i0):\n",
    "            break\n",
    "    \n",
    "    return np.array(H)"
   ]
  },
  {
   "cell_type": "markdown",
   "metadata": {},
   "source": [
    "## Implementation in python of Convex Polygon Intersection"
   ]
  },
  {
   "cell_type": "code",
   "execution_count": 4,
   "metadata": {},
   "outputs": [],
   "source": [
    "# SegSegInt: Finds the point of intersection p between two closed\n",
    "# segments ab and cd.  Returns p and a char with the following meaning:\n",
    "#   'e': The segments collinearly overlap, sharing a point.\n",
    "#   'v': An endpoint (vertex) of one segment is on the other segment,\n",
    "#        but 'e' doesn't hold.\n",
    "#   '1': The segments intersect properly (i.e., they share a point and\n",
    "#        neither 'v' nor 'e' holds).\n",
    "#   '0': The segments do not intersect (i.e., they share no points).\n",
    "# Note that two collinear segments that share just one point, an endpoint\n",
    "# of each, returns 'e' rather than 'v' as one might expect.\n",
    "\n",
    "def segsegint(a1, a, b1, b):\n",
    "    # For math reference see https://stackoverflow.com/questions/563198/whats-the-most-efficent-way-to-calculate-where-two-line-segments-intersect\n",
    "    # segment1 = (p, p+r) =  p + t*r \n",
    "    # segment2 = (q, q+s) =  q + u*s , parametric form\n",
    "\n",
    "    # Line intersects if there is t and u, so that \n",
    "    # p + t*r = q + u*s\n",
    "    # Or, using cross product with pt2\n",
    "    # t*(r X s) = (q - p) X s\n",
    "    \n",
    "    code = '?'\n",
    "    p = a1\n",
    "    q = b1\n",
    "    r = (a - a1)\n",
    "    s = (b - b1)\n",
    "    r_cross_s = np.cross(r, s) \n",
    "    \n",
    "    if r_cross_s == 0:\n",
    "        if np.cross(q-p, r) == 0:\n",
    "            # Segments are colinear\n",
    "            code = 'e'\n",
    "            seg = return_overlapping(p, q, r, s)\n",
    "            return code, seg[0], seg[1]\n",
    "            \n",
    "        else:\n",
    "            # Segments are parallel and non-intersecting\n",
    "            code = 0\n",
    "            return code, None, None\n",
    "\n",
    "    t = np.cross(q-p, s) / r_cross_s\n",
    "    u = np.cross(q-p, r) / r_cross_s\n",
    "\n",
    "    if (0 <= t <= 1) and (0 <= u <= 1):\n",
    "        #Segments intersect in one point\n",
    "        if t==0 or t==1 or u==0 or u==1:\n",
    "            code = 'v'\n",
    "        else:\n",
    "            code = 1\n",
    "        return code, p + t*r, None\n",
    "    else:\n",
    "        # Segments do not intersect \n",
    "        code = 0\n",
    "        return code, None, None\n",
    "    \n",
    "def return_overlapping(p,q,r,s):\n",
    "    \n",
    "    t0 = np.dot(q-p,r)/np.dot(r,r)\n",
    "    t1 = np.dot(q+s-p,r)/np.dot(r,r)\n",
    "    seg = []\n",
    "    \n",
    "    if (np.dot(s,r) >= 0):\n",
    "        \n",
    "        if t1 < 0 or t0 > 1:\n",
    "            return [None, None]\n",
    "        elif t1 == 0:\n",
    "            return (p, None)\n",
    "        elif t0 == 1:\n",
    "            return (p+r, None)\n",
    "        if (0 < t0 < 1):\n",
    "            seg.append(p+t0*r)\n",
    "        elif t0 <= 0: \n",
    "            seg.append(p) \n",
    "        if (0 < t1 < 1):\n",
    "            seg.append(p+t1*r)\n",
    "        elif t1 >= 1: \n",
    "            seg.append(p+r)\n",
    "            \n",
    "\n",
    "    elif (np.dot(s,r) < 0):\n",
    "        if t0 < 0 or t1 > 1:\n",
    "            return [None, None]\n",
    "        elif t0 == 0:\n",
    "            return (p, None)\n",
    "        elif t1 == 1:\n",
    "            return (p+r, None)\n",
    "        if (0 < t1 < 1):\n",
    "            seg.append(p+t1*r)\n",
    "        elif t1 <= 0: \n",
    "            seg.append(p) \n",
    "        if (0 < t0 < 1):\n",
    "            seg.append(p+t0*r)        \n",
    "        elif t0 >= 1:\n",
    "            seg.append(p+r)\n",
    "                    \n",
    "    return seg\n",
    "    "
   ]
  },
  {
   "cell_type": "code",
   "execution_count": 5,
   "metadata": {},
   "outputs": [],
   "source": [
    "def inout(p, inflag, aHB, bHA, I):\n",
    "    #Add point\n",
    "    I.append(p)\n",
    "    \n",
    "    # Update inflag\n",
    "    if aHB > 0:\n",
    "        return 'Pin', I\n",
    "    elif bHA > 0:\n",
    "        return 'Qin', I\n",
    "    else:     #Keep status quo\n",
    "        return inflag, I"
   ]
  },
  {
   "cell_type": "code",
   "execution_count": 6,
   "metadata": {},
   "outputs": [],
   "source": [
    "def advance(a, aa, n, inside, v):\n",
    "    aa += 1\n",
    "    return (a+1) % n, aa"
   ]
  },
  {
   "cell_type": "code",
   "execution_count": 7,
   "metadata": {},
   "outputs": [],
   "source": [
    "def area_sign(o, a, b):\n",
    "    '''\n",
    "    Verify if the cross product of\n",
    "    oa X ob is positive, negative or zero\n",
    "    o stands of origin, a and b are vectors\n",
    "    '''\n",
    "    A = a - o \n",
    "    B = b - o \n",
    "    area = np.cross(A, B)\n",
    "    \n",
    "    if area > 0:\n",
    "        return 1 \n",
    "    elif area < 0:\n",
    "        return -1\n",
    "    else:\n",
    "        return 0 "
   ]
  },
  {
   "cell_type": "code",
   "execution_count": 8,
   "metadata": {},
   "outputs": [],
   "source": [
    "def convex_intersect(P, Q):\n",
    "    \n",
    "    # Inicializing variables\n",
    "    a, b = 0, 0              # Indices of P and Q respectivaly\n",
    "    aa, ba, = 0, 0           # Advvances on a and b\n",
    "    n, m = len(P), len(Q)    # Number of vertices of polygons\n",
    "    inflag = 'Unknow'        # Which polygon is 'inside' \n",
    "    FirstPoint = True \n",
    "    i = 0 \n",
    "    I = []  # The intersection polygon\n",
    "    \n",
    "    # Main loop\n",
    "    while ((aa < n) or (ba < m)) and (aa < 2*n) and (ba < 2*m) :   #If both looped or one looped twice through polygon\n",
    "        i += 1\n",
    "        # a-1 and b-1, respectivaly \n",
    "        a1 = (a + n - 1) % n\n",
    "        b1 = (b + m - 1) % m \n",
    "        \n",
    "        # A and B are the subvectors that describe a1 to a (the edge of polygon)\n",
    "        A = P[a] - P[a1]\n",
    "        B = Q[b] - Q[b1]\n",
    "      \n",
    "        # Cheching cross products to predict advance\n",
    "        origin = np.array([0, 0])\n",
    "        cross = area_sign(origin, A, B)\n",
    "        aHB = area_sign(Q[b1], Q[b], P[a])  # a is in the halfplane to the left of B\n",
    "        bHA = area_sign(P[a1], P[a], Q[b])  # b is in the halfplane to the left of A\n",
    "        #print(\"Cross\", cross)\n",
    "        \n",
    "        # If A and B intersect, change the inflag \n",
    "        # code is the kind of intersection, p and q are the intersetion points, if exists\n",
    "        code, p, q = segsegint(P[a1], P[a], Q[b1], Q[b])\n",
    "        if code == 1 or code =='v':\n",
    "            if inflag == 'Unknow' and FirstPoint:\n",
    "                aa, ab = 0, 0 \n",
    "                FirstPoint = False \n",
    "                p0 = p    # p0 is the first point\n",
    "            inflag, I = inout(p, inflag, aHB, bHA, I)\n",
    "        \n",
    "        # ADVANCE RULES\n",
    "        \n",
    "        # Special case: A & B overlap and oppositely oriented\n",
    "        if code == 'e' and np.dot(A, B) < 0:\n",
    "            #raise SystemExit\n",
    "            #print(\"Special case interception\")\n",
    "            I.append(p)\n",
    "            if q is not None:\n",
    "                I.append(q)\n",
    "        \n",
    "        # Special case: A & B parallel and separated\n",
    "        if cross == 0 and aHB < 0 and bHA < 0:\n",
    "            print(\"P and Q are disjoint, parallel edge\")\n",
    "            #raise SystemExit\n",
    "            return []\n",
    "        \n",
    "        # Special case: A & B are collinear\n",
    "        elif cross == 0 and aHB == 0 and bHA == 0:\n",
    "            if inflag == 'Pin':\n",
    "                b, ba = advance(b, ba, m, inflag=='Qin', Q[b])\n",
    "            else:\n",
    "                a, aa = advance(a, aa, n, inflag=='Pin', P[a])\n",
    "        \n",
    "        # Generic cases\n",
    "        elif cross >= 0:\n",
    "            if bHA > 0:\n",
    "                a, aa = advance(a, aa, n, inflag=='Pin', P[a])\n",
    "            else:\n",
    "                b, ba = advance(b, ba, m, inflag=='Qin', Q[b])\n",
    "        \n",
    "        else:  # cross<0\n",
    "            if aHB > 0:\n",
    "                b, ba = advance(b, ba, m, inflag=='Qin', Q[b])\n",
    "            else:\n",
    "                a, aa = advance(a, aa, n, inflag=='Pin', P[a])\n",
    "        \n",
    "    if inflag == \"Unknow\":\n",
    "        pass\n",
    "        #print(\"The boundaries of P and Q do not cross\")\n",
    "    \n",
    "    if len(I)>0:\n",
    "        I = np.unique(I, axis=0)\n",
    "    \n",
    "    return I"
   ]
  },
  {
   "cell_type": "markdown",
   "metadata": {},
   "source": [
    "## Calculating Polygon Area "
   ]
  },
  {
   "cell_type": "code",
   "execution_count": 9,
   "metadata": {},
   "outputs": [],
   "source": [
    "def polygon_area(np_points):\n",
    "    n = len(np_points)\n",
    "    area = 0 \n",
    "    origin = np_points[0]\n",
    "    for i in range(n-1):\n",
    "        if i == 0:\n",
    "            continue \n",
    "        j = i + 1\n",
    "        \n",
    "        #Triangle vectors \n",
    "        A = np_points[i] - origin\n",
    "        B = np_points[j] - origin \n",
    "        \n",
    "        area += np.cross(A, B)/2\n",
    "    \n",
    "    return area\n",
    "        "
   ]
  },
  {
   "cell_type": "markdown",
   "metadata": {},
   "source": [
    "## Time on sympy polygons VS implementation in numpy"
   ]
  },
  {
   "cell_type": "code",
   "execution_count": 10,
   "metadata": {},
   "outputs": [],
   "source": [
    "number_of_polygons = 20\n",
    "\n",
    "points = 1000 * np.random.random_sample([10*number_of_polygons, 2])\n",
    "points2 = 1000 * np.random.random_sample([10*number_of_polygons, 2])\n",
    "\n",
    "polygons = []\n",
    "polygons2 = []\n",
    "for i in range(number_of_polygons):\n",
    "    arr = [points[10*i + j] for j in range(10)]\n",
    "    arr = gift_wrapper(arr)\n",
    "    polygons.append(sp.Polygon(*arr))\n",
    "    \n",
    "    arr2 = [points2[10*i + j] for j in range(10)]\n",
    "    arr2 = gift_wrapper(arr2)\n",
    "    polygons2.append(sp.Polygon(*arr2))\n"
   ]
  },
  {
   "cell_type": "code",
   "execution_count": 11,
   "metadata": {},
   "outputs": [
    {
     "name": "stdout",
     "output_type": "stream",
     "text": [
      "Time spent on sympy 62.26302575719386\n"
     ]
    }
   ],
   "source": [
    "intersections = []\n",
    "\n",
    "inicial_time = clock()\n",
    "for i in range(number_of_polygons):\n",
    "    intersections.append(sp.intersection(polygons[i], polygons2[i]))\n",
    "final_time = clock()\n",
    "\n",
    "print(\"Time spent on sympy\", final_time - inicial_time)\n",
    "\n"
   ]
  },
  {
   "cell_type": "code",
   "execution_count": 12,
   "metadata": {},
   "outputs": [
    {
     "name": "stdout",
     "output_type": "stream",
     "text": [
      "Time spent now 0.04650145738040834\n"
     ]
    }
   ],
   "source": [
    "np_intersections = []\n",
    "\n",
    "inicial_time = clock()\n",
    "for i in range(number_of_polygons):\n",
    "    P = [points[10*i + j] for j in range(10)]\n",
    "    P = gift_wrapper(P)\n",
    "    Q = [points2[10*i + j] for j in range(10)]\n",
    "    Q = gift_wrapper(Q)\n",
    "    np_intersections.append(convex_intersect(P,Q))\n",
    "final_time = clock()\n",
    "\n",
    "print(\"Time spent now\", final_time - inicial_time)"
   ]
  },
  {
   "cell_type": "markdown",
   "metadata": {},
   "source": [
    "## Checking time for calculating areas "
   ]
  },
  {
   "cell_type": "code",
   "execution_count": 13,
   "metadata": {},
   "outputs": [
    {
     "name": "stdout",
     "output_type": "stream",
     "text": [
      "Time spent in sympy area is  0.2375486616514948\n"
     ]
    }
   ],
   "source": [
    "area = []\n",
    "\n",
    "inicial_time = clock()\n",
    "for pol in intersections:\n",
    "    if len(pol) < 3:\n",
    "        #print(\"Not polygon in \", i)\n",
    "        continue\n",
    "    pol = gift_wrapper(pol)\n",
    "    pol = sp.Polygon(*pol)\n",
    "    area.append(pol.area)\n",
    "final_time = clock()\n",
    "\n",
    "print(\"Time spent in sympy area is \", final_time - inicial_time)"
   ]
  },
  {
   "cell_type": "code",
   "execution_count": 14,
   "metadata": {},
   "outputs": [
    {
     "name": "stdout",
     "output_type": "stream",
     "text": [
      "Time spent in area now 0.002286218609434343\n"
     ]
    }
   ],
   "source": [
    "np_area = []\n",
    "\n",
    "inicial_time = clock()\n",
    "for pol in np_intersections:\n",
    "    if len(pol) < 3:\n",
    "        #print(\"Not polygon in \", i)\n",
    "        continue\n",
    "    pol = gift_wrapper(pol)\n",
    "    np_area.append(polygon_area(pol))\n",
    "final_time = clock()\n",
    "\n",
    "print(\"Time spent in area now\", final_time - inicial_time)\n",
    "\n"
   ]
  },
  {
   "cell_type": "markdown",
   "metadata": {},
   "source": [
    "## Checking for intersection sizes "
   ]
  },
  {
   "cell_type": "code",
   "execution_count": 15,
   "metadata": {},
   "outputs": [],
   "source": [
    "for i in range(number_of_polygons):\n",
    "    if len(intersections[i]) != len(np_intersections[i]):\n",
    "        print(\"Check for position\", i)\n",
    "    #print(len(intersections[i]),len(np_intersections[i]) )"
   ]
  },
  {
   "cell_type": "code",
   "execution_count": 16,
   "metadata": {},
   "outputs": [
    {
     "name": "stdout",
     "output_type": "stream",
     "text": [
      "[Point2D(80619663853791801818153967262778967039816021/929757134608538859076858961660000000000000, 112858539483203918065813226528522599452849887/185951426921707771815371792332000000000000), Point2D(11796433527665612454872063321595228652315191/50683999602570917383424802888200000000000, 107680829488164255477490617014639025134655473/126709999006427293458562007220500000000000), Point2D(69691802836003890062477925654731802553080217/86575709318065003812985185303000000000000, 257949565324178991850060420437798121007601857/303014982613227513345448148560500000000000), Point2D(2270230213644029138883168618604512045907883/2616675298645432718668918560000000000000, 33669934906257725993250572774605905248776079/73266908362072116122729719680000000000000)]\n"
     ]
    },
    {
     "data": {
      "text/plain": [
       "array([[  86.71045465,  606.92483705],\n",
       "       [ 232.74472457,  849.82109015],\n",
       "       [ 804.98102048,  851.27660388],\n",
       "       [ 867.60104122,  459.55173569]])"
      ]
     },
     "execution_count": 16,
     "metadata": {},
     "output_type": "execute_result"
    }
   ],
   "source": [
    "i = 0\n",
    "print(intersections[i])\n",
    "np_intersections[i]"
   ]
  }
 ],
 "metadata": {
  "kernelspec": {
   "display_name": "Python 3",
   "language": "python",
   "name": "python3"
  },
  "language_info": {
   "codemirror_mode": {
    "name": "ipython",
    "version": 3
   },
   "file_extension": ".py",
   "mimetype": "text/x-python",
   "name": "python",
   "nbconvert_exporter": "python",
   "pygments_lexer": "ipython3",
   "version": "3.6.3"
  }
 },
 "nbformat": 4,
 "nbformat_minor": 2
}
