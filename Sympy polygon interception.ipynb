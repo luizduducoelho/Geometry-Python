{
 "cells": [
  {
   "cell_type": "markdown",
   "metadata": {},
   "source": [
    "## Imports "
   ]
  },
  {
   "cell_type": "code",
   "execution_count": 1,
   "metadata": {},
   "outputs": [],
   "source": [
    "import numpy as np \n",
    "import sympy.geometry as sp\n",
    "from time import clock "
   ]
  },
  {
   "cell_type": "markdown",
   "metadata": {},
   "source": [
    "## Creating Sympy polygons"
   ]
  },
  {
   "cell_type": "code",
   "execution_count": 2,
   "metadata": {},
   "outputs": [
    {
     "name": "stdout",
     "output_type": "stream",
     "text": [
      "[]\n"
     ]
    }
   ],
   "source": [
    "p1, p2, p3, p4 = [(0, 5), (0, 0), (5, 0), (5, 5)]\n",
    "p5, p6, p7, p8 = [(1, 3), (1, 1), (3, 1), (3,3)]\n",
    "pol1 = sp.Polygon(p1, p2, p3, p4)\n",
    "pol2 = sp.Polygon(p5, p6, p7, p8)\n",
    "\n",
    "r = pol1.intersection(pol2)\n",
    "#polr = sp.Polygon(*r)\n",
    "print(r)"
   ]
  },
  {
   "cell_type": "markdown",
   "metadata": {},
   "source": [
    "## Sort polygon points counter-clockwise order"
   ]
  },
  {
   "cell_type": "code",
   "execution_count": 3,
   "metadata": {},
   "outputs": [],
   "source": [
    "def less(a, b, center):\n",
    "    \n",
    "    if a[0] - center[0] >= 0 and b[0] - center[0] < 0:\n",
    "        return 1\n",
    "    if a[0] - center[0] < 0 and b[0] - center[0] >= 0:\n",
    "        return -1\n",
    "    if a[0] - center[0] == 0 and b[0] - center[0] == 0:\n",
    "        if a[1] - center[1] >= 0 or b[1] - center[1] >=0:\n",
    "            return a[1] - b[1]\n",
    "        return b[1] - a[1]\n",
    "    \n",
    "    # Compute cross product of vectors a and b \n",
    "    cross = np.cross(a-center, b-center)\n",
    "    if cross < 0:\n",
    "        return 1\n",
    "    if cross > 0:\n",
    "        return -1\n",
    "    \n",
    "    # Points are in the same line from the center\n",
    "    # Check which is closer \n",
    "    d1 = np.sum((a-center)**2)\n",
    "    d2 = np.sum((b-center)**2)\n",
    "    return d1 - d2\n",
    "\n",
    "def cmp_to_key(mycmp, center):\n",
    "    'Convert a cmp= function into a key= function'\n",
    "    class K:\n",
    "        def __init__(self, obj, *args):\n",
    "            self.obj = obj\n",
    "        def __lt__(self, other):\n",
    "            return mycmp(self.obj, other.obj, center) < 0\n",
    "        def __gt__(self, other):\n",
    "            return mycmp(self.obj, other.obj, center) > 0\n",
    "        def __eq__(self, other):\n",
    "            return mycmp(self.obj, other.obj, center) == 0\n",
    "        def __le__(self, other):\n",
    "            return mycmp(self.obj, other.obj, center) <= 0\n",
    "        def __ge__(self, other):\n",
    "            return mycmp(self.obj, other.obj, center) >= 0\n",
    "        def __ne__(self, other):\n",
    "            return mycmp(self.obj, other.obj, center) != 0\n",
    "    return K\n",
    "    \n",
    "def counter_clockwise(points):\n",
    "    n = len(points)\n",
    "    center = np.sum(points, axis=0)/n\n",
    "    points = list(points)\n",
    "    points.sort(key=cmp_to_key(less, center))\n",
    "    return np.array(points) "
   ]
  },
  {
   "cell_type": "markdown",
   "metadata": {},
   "source": [
    "## Check if polygon is convex  -- Gift Wrapper"
   ]
  },
  {
   "cell_type": "code",
   "execution_count": 15,
   "metadata": {},
   "outputs": [],
   "source": [
    "def is_ccw(p1, p2, p3):  # Is CounterClockwise \n",
    "    # Checking if slope of p1p2 is less than slope of p2p3\n",
    "    s1 = (p2[1] - p1[1]) * (p3[0] - p2[0])\n",
    "    s2 = (p3[1] - p2[1]) * (p2[0] - p1[0]) \n",
    "    if s1 <= s2:\n",
    "        return True\n",
    "    else:\n",
    "        return False \n",
    "\n",
    "def gift_wrapper(np_points):\n",
    "    \n",
    "    # Number of points\n",
    "    n = len(np_points)\n",
    "    \n",
    "    # Find leftmost point \n",
    "    i0 = np.argmin(np_points, axis=0)[0]\n",
    "    point_on_hull = np_points[i0]\n",
    "    \n",
    "    # Creating Hull and its iterator \n",
    "    i = i0\n",
    "    H = []\n",
    "    \n",
    "    # Build the Hull until back to the first point \n",
    "    while True:\n",
    "        \n",
    "        # Adding point in the Hull \n",
    "        H.append(np_points[i])\n",
    "        \n",
    "        # k stores the point of smallest angle (ccw of all others), inicializing here \n",
    "        k = (i+1)%n\n",
    "        \n",
    "        # Loop on all the other points \n",
    "        for j in (x for x in range(n) if x != i):\n",
    "            if is_ccw(np_points[i], np_points[j], np_points[k]):  # If there is a point j more cck than the current, change\n",
    "                k = j \n",
    "        i = k\n",
    "        \n",
    "        if (i == i0):\n",
    "            break\n",
    "    \n",
    "    return np.array(H)"
   ]
  },
  {
   "cell_type": "markdown",
   "metadata": {},
   "source": [
    "## Implementation in python"
   ]
  },
  {
   "cell_type": "code",
   "execution_count": 68,
   "metadata": {},
   "outputs": [],
   "source": [
    "# SegSegInt: Finds the point of intersection p between two closed\n",
    "# segments ab and cd.  Returns p and a char with the following meaning:\n",
    "#   'e': The segments collinearly overlap, sharing a point.\n",
    "#   'v': An endpoint (vertex) of one segment is on the other segment,\n",
    "#        but 'e' doesn't hold.\n",
    "#   '1': The segments intersect properly (i.e., they share a point and\n",
    "#        neither 'v' nor 'e' holds).\n",
    "#   '0': The segments do not intersect (i.e., they share no points).\n",
    "# Note that two collinear segments that share just one point, an endpoint\n",
    "# of each, returns 'e' rather than 'v' as one might expect.\n",
    "\n",
    "def segsegint(a1, a, b1, b):\n",
    "    # For math reference see https://stackoverflow.com/questions/563198/whats-the-most-efficent-way-to-calculate-where-two-line-segments-intersect\n",
    "    # segment1 = (p, p+r) =  p + t*r \n",
    "    # segment2 = (q, q+s) =  q + u*s , parametric form\n",
    "\n",
    "    # Line intersects if there is t and u, so that \n",
    "    # p + t*r = q + u*s\n",
    "    # Or, using cross product with pt2\n",
    "    # t*(r X s) = (q - p) X s\n",
    "    \n",
    "    code = '?'\n",
    "    p = a1\n",
    "    q = b1\n",
    "    r = (a - a1)\n",
    "    s = (b - b1)\n",
    "    r_cross_s = np.cross(r, s) \n",
    "    \n",
    "    if r_cross_s == 0:\n",
    "        if np.cross(q-p, r) == 0:\n",
    "            # Segments are colinear\n",
    "            code = 'e'\n",
    "            seg = return_overlapping(p, q, r, s)\n",
    "            return code, seg[0], seg[1]\n",
    "            \n",
    "        else:\n",
    "            # Segments are parallel and non-intersecting\n",
    "            code = 0\n",
    "            return code, None, None\n",
    "\n",
    "    t = np.cross(q-p, s) / r_cross_s\n",
    "    u = np.cross(q-p, r) / r_cross_s\n",
    "\n",
    "    if (0 <= t <= 1) and (0 <= u <= 1):\n",
    "        #Segments intersect in one point\n",
    "        if t==0 or t==1 or u==0 or u==1:\n",
    "            code = 'v'\n",
    "        else:\n",
    "            code = 1\n",
    "        return code, p + t*r, None\n",
    "    else:\n",
    "        # Segments do not intersect \n",
    "        code = 0\n",
    "        return code, None, None\n",
    "    \n",
    "def return_overlapping(p,q,r,s):\n",
    "    \n",
    "    t0 = np.dot(q-p,r)/np.dot(r,r)\n",
    "    t1 = np.dot(q+s-p,r)/np.dot(r,r)\n",
    "    seg = []\n",
    "    \n",
    "    if (np.dot(s,r) >= 0):\n",
    "        \n",
    "        if t1 < 0 or t0 > 1:\n",
    "            return [None, None]\n",
    "        elif t1 == 0:\n",
    "            return (p, None)\n",
    "        elif t0 == 1:\n",
    "            return (p+r, None)\n",
    "        if (0 < t0 < 1):\n",
    "            seg.append(p+t0*r)\n",
    "        elif t0 <= 0: \n",
    "            seg.append(p) \n",
    "        if (0 < t1 < 1):\n",
    "            seg.append(p+t1*r)\n",
    "        elif t1 >= 1: \n",
    "            seg.append(p+r)\n",
    "            \n",
    "\n",
    "    elif (np.dot(s,r) < 0):\n",
    "        if t0 < 0 or t1 > 1:\n",
    "            return [None, None]\n",
    "        elif t0 == 0:\n",
    "            return (p, None)\n",
    "        elif t1 == 1:\n",
    "            return (p+r, None)\n",
    "        if (0 < t1 < 1):\n",
    "            seg.append(p+t1*r)\n",
    "        elif t1 <= 0: \n",
    "            seg.append(p) \n",
    "        if (0 < t0 < 1):\n",
    "            seg.append(p+t0*r)        \n",
    "        elif t0 >= 1:\n",
    "            seg.append(p+r)\n",
    "                    \n",
    "    return seg\n",
    "    "
   ]
  },
  {
   "cell_type": "code",
   "execution_count": 17,
   "metadata": {},
   "outputs": [],
   "source": [
    "def inout(p, inflag, aHB, bHA):\n",
    "    #Add point\n",
    "    I.append(p)\n",
    "    \n",
    "    # Update inflag\n",
    "    if aHB > 0:\n",
    "        return 'Pin'\n",
    "    elif bHA > 0:\n",
    "        return 'Qin'\n",
    "    else:     #Keep status quo\n",
    "        return inflag"
   ]
  },
  {
   "cell_type": "code",
   "execution_count": 18,
   "metadata": {},
   "outputs": [],
   "source": [
    "def advance(a, aa, n, inside, v):\n",
    "    if inside:\n",
    "        # Add point\n",
    "        #I.append(v)\n",
    "        #print(\"Found point {} of polygon!\".format(v))\n",
    "        pass\n",
    "    aa += 1\n",
    "    return (a+1) % n, aa"
   ]
  },
  {
   "cell_type": "code",
   "execution_count": 19,
   "metadata": {},
   "outputs": [],
   "source": [
    "def area_sign(o, a, b):\n",
    "    '''\n",
    "    Verify if the cross product of\n",
    "    oa X ob is positive, negative or zero\n",
    "    o stands of origin, a and b are vectors\n",
    "    '''\n",
    "    A = a - o \n",
    "    B = b - o \n",
    "    area = np.cross(A, B)\n",
    "    \n",
    "    if area > 0:\n",
    "        return 1 \n",
    "    elif area < 0:\n",
    "        return -1\n",
    "    else:\n",
    "        return 0 "
   ]
  },
  {
   "cell_type": "code",
   "execution_count": 57,
   "metadata": {},
   "outputs": [],
   "source": [
    "def convex_intersect(P, Q):\n",
    "    \n",
    "    # Inicializing variables\n",
    "    a, b = 0, 0              # Indices of P and Q respectivaly\n",
    "    aa, ba, = 0, 0           # Advvances on a and b\n",
    "    n, m = len(P), len(Q)    # Number of vertices of polygons\n",
    "    inflag = 'Unknow'        # Which polygon is 'inside' \n",
    "    FirstPoint = True \n",
    "    global i \n",
    "    i = 0 #test\n",
    "    global I \n",
    "    I = []  # The intersection polygon\n",
    "    \n",
    "    # Main loop\n",
    "    while ((aa < n) or (ba < m)) and (aa < 2*n) and (ba < 2*m) :   #If both looped or one looped twice through polygon\n",
    "        i += 1\n",
    "        # a-1 and b-1, respectivaly \n",
    "        a1 = (a + n - 1) % n\n",
    "        b1 = (b + m - 1) % m \n",
    "        \n",
    "        # A and B are the subvectors that describe a1 to a (the edge of polygon)\n",
    "        A = P[a] - P[a1]\n",
    "        B = Q[b] - Q[b1]\n",
    "      \n",
    "        # Cheching cross products to predict advance\n",
    "        origin = np.array([0, 0])\n",
    "        cross = area_sign(origin, A, B)\n",
    "        aHB = area_sign(Q[b1], Q[b], P[a])  # a is in the halfplane to the left of B\n",
    "        bHA = area_sign(P[a1], P[a], Q[b])  # b is in the halfplane to the left of A\n",
    "        #print(\"Cross\", cross)\n",
    "        \n",
    "        # If A and B intersect, change the inflag \n",
    "        # code is the kind of intersection, p and q are the intersetion points, if exists\n",
    "        code, p, q = segsegint(P[a1], P[a], Q[b1], Q[b])\n",
    "        if code == 1 or code =='v':\n",
    "            if inflag == 'Unknow' and FirstPoint:\n",
    "                aa, ab = 0, 0 \n",
    "                FirstPoint = False \n",
    "                p0 = p    # p0 is the first point\n",
    "                #I.append(p0)\n",
    "            inflag = inout(p, inflag, aHB, bHA)\n",
    "        \n",
    "        # ADVANCE RULES\n",
    "        \n",
    "        # Special case: A & B overlap and oppositely oriented\n",
    "        if code == 'e' and np.dot(A, B) < 0:\n",
    "            #raise SystemExit\n",
    "            print(\"Special case interception\")\n",
    "            return[]\n",
    "        \n",
    "        # Special case: A & B parallel and separated\n",
    "        if cross == 0 and aHB < 0 and bHA < 0:\n",
    "            print(\"P and Q are disjoint\")\n",
    "            #raise SystemExit\n",
    "            return []\n",
    "        \n",
    "        # Special case: A & B are collinear\n",
    "        elif cross == 0 and aHB == 0 and bHA == 0:\n",
    "            if inflag == 'Pin':\n",
    "                b, ba = advance(b, ba, m, inflag=='Qin', Q[b])\n",
    "            else:\n",
    "                a, aa = advance(a, aa, n, inflag=='Pin', P[a])\n",
    "        \n",
    "        # Generic cases\n",
    "        elif cross >= 0:\n",
    "            if bHA > 0:\n",
    "                a, aa = advance(a, aa, n, inflag=='Pin', P[a])\n",
    "            else:\n",
    "                b, ba = advance(b, ba, m, inflag=='Qin', Q[b])\n",
    "        \n",
    "        else:  # cross<0\n",
    "            if aHB > 0:\n",
    "                b, ba = advance(b, ba, m, inflag=='Qin', Q[b])\n",
    "            else:\n",
    "                a, aa = advance(a, aa, n, inflag=='Pin', P[a])\n",
    "                \n",
    "    if not FirstPoint:  # If found at least one point\n",
    "        # I.append(p0)\n",
    "        pass\n",
    "        \n",
    "    if inflag == \"Unknow\":\n",
    "        print(\"The boundaries of P and Q do not cross\")\n",
    "    \n",
    "    return(I)"
   ]
  },
  {
   "cell_type": "code",
   "execution_count": 58,
   "metadata": {},
   "outputs": [
    {
     "name": "stdout",
     "output_type": "stream",
     "text": [
      "[array([0.66666667, 0.        ]), array([1.8, 0.2]), array([2.33333333, 1.        ]), array([0.33333333, 1.        ])]\n"
     ]
    }
   ],
   "source": [
    "P = np.array(([1, 0], [0, 0], [0, 1], [5, 1]))\n",
    "Q = np.array([(0, 2), (1, -1), (3, 2)])\n",
    "\n",
    "R = convex_intersect(gift_wrapper(P), gift_wrapper(Q))\n",
    "print(R)"
   ]
  },
  {
   "cell_type": "code",
   "execution_count": 59,
   "metadata": {},
   "outputs": [
    {
     "name": "stdout",
     "output_type": "stream",
     "text": [
      "[Point2D(1/3, 1), Point2D(2/3, 0), Point2D(9/5, 1/5), Point2D(7/3, 1)]\n"
     ]
    }
   ],
   "source": [
    "pol1 = sp.Polygon(*P)\n",
    "pol2 = sp.Polygon(*Q)\n",
    "r = sp.intersection(pol2, pol1)\n",
    "print(r)"
   ]
  },
  {
   "cell_type": "markdown",
   "metadata": {},
   "source": [
    "## Calculating Polygon Area "
   ]
  },
  {
   "cell_type": "code",
   "execution_count": 23,
   "metadata": {},
   "outputs": [],
   "source": [
    "def polygon_area(np_points):\n",
    "    n = len(np_points)\n",
    "    area = 0 \n",
    "    origin = np_points[0]\n",
    "    for i in range(n-1):\n",
    "        if i == 0:\n",
    "            continue \n",
    "        j = i + 1\n",
    "        \n",
    "        #Triangle vectors \n",
    "        A = np_points[i] - origin\n",
    "        B = np_points[j] - origin \n",
    "        \n",
    "        area += np.cross(A, B)/2\n",
    "    \n",
    "    return area\n",
    "        "
   ]
  },
  {
   "cell_type": "code",
   "execution_count": 24,
   "metadata": {},
   "outputs": [
    {
     "name": "stdout",
     "output_type": "stream",
     "text": [
      "-3\n",
      "9/2\n"
     ]
    }
   ],
   "source": [
    "print(pol1.area)\n",
    "print(pol2.area)"
   ]
  },
  {
   "cell_type": "code",
   "execution_count": 25,
   "metadata": {},
   "outputs": [
    {
     "name": "stdout",
     "output_type": "stream",
     "text": [
      "-3.0\n",
      "4.5\n"
     ]
    }
   ],
   "source": [
    "print(polygon_area(P))\n",
    "print(polygon_area(Q))"
   ]
  },
  {
   "cell_type": "code",
   "execution_count": 114,
   "metadata": {},
   "outputs": [
    {
     "name": "stdout",
     "output_type": "stream",
     "text": [
      "Polygon(Point2D(130177301094631/1000000000000, 113672739627473/200000000000), Point2D(50501633410869/200000000000, 65796651296089/250000000000), Point2D(18286704502793/50000000000, 24440510701389/125000000000), Point2D(937997411128899/1000000000000, 641197642558083/1000000000000), Point2D(901016482618323/1000000000000, 757033028185171/1000000000000), Point2D(203974974845081/250000000000, 233317898394667/250000000000), Point2D(195378120450107/1000000000000, 92421119863817/100000000000))\n",
      "[[130.17730109 568.36369814]\n",
      " [252.50816705 263.18660518]\n",
      " [365.73409006 195.52408561]\n",
      " [937.99741113 641.19764256]\n",
      " [901.01648262 757.03302819]\n",
      " [815.89989938 933.27159358]\n",
      " [195.37812045 924.21119864]]\n",
      "\n",
      "\n",
      "Polygon(Point2D(67201386616139/50000000000000, 402871505003313/500000000000), Point2D(917612483627529/10000000000000, 427110900402733/1000000000000), Point2D(21887630314819/31250000000, 9621577236833/40000000000), Point2D(897775422742991/1000000000000, 141808992614957/500000000000), Point2D(40326050152537/62500000000, 293859886978549/500000000000), Point2D(418423983730023/1000000000000, 714306835467771/1000000000000), Point2D(260100496670691/1000000000000, 390052855434643/500000000000))\n",
      "[[  1.34402773 805.74301001]\n",
      " [ 91.76124836 427.1109004 ]\n",
      " [700.40417007 240.53943092]\n",
      " [897.77542274 283.61798523]\n",
      " [645.21680244 587.71977396]\n",
      " [418.42398373 714.30683547]\n",
      " [260.10049667 780.10571087]]\n"
     ]
    }
   ],
   "source": [
    "print(polygons[0])\n",
    "\n",
    "i = 0 \n",
    "P = [points[10*i + j] for j in range(10)]\n",
    "P = gift_wrapper(P)\n",
    "print(P)\n",
    "\n",
    "print(\"\\n\")\n",
    "\n",
    "print(polygons2[0])\n",
    "\n",
    "i = 0 \n",
    "Q = [points2[10*i + j] for j in range(10)]\n",
    "Q = gift_wrapper(Q)\n",
    "print(Q)\n",
    "\n",
    "sympy_list = sp.intersection(polygons[0], polygons2[0])\n",
    "print(sympy_list)\n",
    "convex_intersect(P, Q)\n",
    "\n",
    "lista = []\n",
    "for point in convex_intersect(P, Q):\n",
    "    lista.append(sp.Point(point))\n",
    "print(lista[0])\n",
    "sympy_list[0]\n",
    "np.isclose(lista[0], sympy_list[0])"
   ]
  },
  {
   "cell_type": "markdown",
   "metadata": {},
   "source": [
    "## Time on sympy polygons"
   ]
  },
  {
   "cell_type": "code",
   "execution_count": 160,
   "metadata": {},
   "outputs": [],
   "source": [
    "number_of_polygons = 200\n",
    "\n",
    "points = 1000 * np.random.random_sample([10*number_of_polygons, 2])\n",
    "points2 = 1000 * np.random.random_sample([10*number_of_polygons, 2])\n",
    "\n",
    "polygons = []\n",
    "polygons2 = []\n",
    "for i in range(number_of_polygons):\n",
    "    arr = [points[10*i + j] for j in range(10)]\n",
    "    arr = gift_wrapper(arr)\n",
    "    polygons.append(sp.Polygon(*arr))\n",
    "    \n",
    "    arr2 = [points2[10*i + j] for j in range(10)]\n",
    "    arr2 = gift_wrapper(arr2)\n",
    "    polygons2.append(sp.Polygon(*arr2))\n"
   ]
  },
  {
   "cell_type": "code",
   "execution_count": 161,
   "metadata": {},
   "outputs": [
    {
     "name": "stdout",
     "output_type": "stream",
     "text": [
      "Time spent on sympy 711.6030369209184\n"
     ]
    }
   ],
   "source": [
    "intersections = []\n",
    "\n",
    "inicial_time = clock()\n",
    "for i in range(number_of_polygons):\n",
    "    intersections.append(sp.intersection(polygons[i], polygons2[i]))\n",
    "final_time = clock()\n",
    "\n",
    "print(\"Time spent on sympy\", final_time - inicial_time)\n",
    "\n"
   ]
  },
  {
   "cell_type": "code",
   "execution_count": 162,
   "metadata": {},
   "outputs": [
    {
     "name": "stdout",
     "output_type": "stream",
     "text": [
      "The boundaries of P and Q do not cross\n",
      "The boundaries of P and Q do not cross\n",
      "Time spent now 0.7064752248688819\n"
     ]
    }
   ],
   "source": [
    "np_intersections = []\n",
    "\n",
    "inicial_time = clock()\n",
    "for i in range(number_of_polygons):\n",
    "    P = [points[10*i + j] for j in range(10)]\n",
    "    P = gift_wrapper(P)\n",
    "    Q = [points2[10*i + j] for j in range(10)]\n",
    "    Q = gift_wrapper(Q)\n",
    "    np_intersections.append(convex_intersect(P,Q))\n",
    "final_time = clock()\n",
    "\n",
    "print(\"Time spent now\", final_time - inicial_time)"
   ]
  },
  {
   "cell_type": "code",
   "execution_count": 163,
   "metadata": {},
   "outputs": [
    {
     "name": "stdout",
     "output_type": "stream",
     "text": [
      "great job\n",
      "great job\n",
      "great job\n",
      "great job\n",
      "great job\n",
      "great job\n",
      "great job\n",
      "great job\n",
      "great job\n",
      "great job\n",
      "great job\n",
      "great job\n",
      "great job\n",
      "great job\n",
      "great job\n",
      "great job\n",
      "great job\n",
      "great job\n",
      "great job\n",
      "great job\n",
      "great job\n",
      "great job\n",
      "great job\n",
      "great job\n",
      "great job\n",
      "great job\n",
      "great job\n",
      "great job\n",
      "great job\n",
      "great job\n",
      "great job\n",
      "great job\n",
      "great job\n",
      "great job\n",
      "great job\n",
      "great job\n",
      "great job\n",
      "great job\n",
      "great job\n",
      "great job\n",
      "great job\n",
      "great job\n",
      "great job\n",
      "great job\n",
      "great job\n",
      "great job\n",
      "great job\n",
      "great job\n",
      "great job\n",
      "great job\n",
      "great job\n",
      "great job\n",
      "great job\n",
      "great job\n",
      "great job\n",
      "great job\n",
      "great job\n",
      "great job\n",
      "great job\n",
      "great job\n",
      "great job\n",
      "great job\n",
      "great job\n",
      "great job\n",
      "great job\n",
      "great job\n",
      "great job\n",
      "great job\n",
      "great job\n",
      "great job\n",
      "great job\n",
      "great job\n",
      "great job\n",
      "great job\n",
      "great job\n",
      "great job\n",
      "great job\n",
      "great job\n",
      "great job\n",
      "great job\n",
      "great job\n",
      "great job\n",
      "great job\n",
      "great job\n",
      "great job\n",
      "great job\n",
      "great job\n",
      "great job\n",
      "great job\n",
      "great job\n",
      "great job\n",
      "great job\n",
      "great job\n",
      "great job\n",
      "great job\n",
      "great job\n",
      "great job\n",
      "great job\n",
      "great job\n",
      "great job\n",
      "great job\n",
      "great job\n",
      "great job\n",
      "great job\n",
      "great job\n",
      "great job\n",
      "great job\n",
      "great job\n",
      "great job\n",
      "great job\n",
      "great job\n",
      "great job\n",
      "great job\n",
      "great job\n",
      "great job\n",
      "great job\n",
      "great job\n",
      "great job\n",
      "great job\n",
      "great job\n",
      "great job\n",
      "great job\n",
      "great job\n",
      "great job\n",
      "great job\n",
      "great job\n",
      "great job\n",
      "great job\n",
      "great job\n",
      "great job\n",
      "great job\n",
      "great job\n",
      "great job\n",
      "great job\n",
      "great job\n",
      "great job\n",
      "great job\n",
      "great job\n",
      "great job\n",
      "great job\n",
      "great job\n",
      "great job\n",
      "great job\n",
      "great job\n",
      "great job\n",
      "great job\n",
      "great job\n",
      "great job\n",
      "great job\n",
      "great job\n",
      "great job\n",
      "great job\n",
      "great job\n",
      "great job\n",
      "great job\n",
      "great job\n",
      "great job\n",
      "great job\n",
      "great job\n",
      "great job\n",
      "great job\n",
      "great job\n",
      "great job\n",
      "great job\n",
      "great job\n",
      "great job\n",
      "great job\n",
      "great job\n",
      "great job\n",
      "great job\n",
      "great job\n",
      "great job\n",
      "great job\n",
      "great job\n",
      "great job\n",
      "great job\n",
      "great job\n",
      "great job\n",
      "great job\n",
      "great job\n",
      "great job\n",
      "great job\n",
      "great job\n",
      "great job\n",
      "great job\n",
      "great job\n",
      "great job\n",
      "great job\n",
      "great job\n",
      "great job\n",
      "great job\n",
      "great job\n",
      "great job\n",
      "great job\n",
      "great job\n",
      "great job\n",
      "great job\n",
      "great job\n",
      "great job\n",
      "great job\n"
     ]
    }
   ],
   "source": [
    "#print(len(intersections[0]))\n",
    "#print(len(np_intersections[0]))\n",
    "\n",
    "for i in range(number_of_polygons):\n",
    "    if len(intersections[i]) != len(np_intersections[i]):\n",
    "        print(\"Something wrong in {}, please check!\".format(i))\n",
    "    else:\n",
    "        #print(\"great job\")"
   ]
  },
  {
   "cell_type": "code",
   "execution_count": 201,
   "metadata": {},
   "outputs": [
    {
     "name": "stdout",
     "output_type": "stream",
     "text": [
      "6\n",
      "6\n",
      "[Point2D(26471804805399801684511900573065008472556373/74557656081843761861806378226500000000000, 3127101604314203772557825112354902205941713/18639414020460940465451594556625000000000), Point2D(35872630828291509072015636156681257733654737/89441103775682525125731873826000000000000, 9915335844745383098041402088643814828737341/11180137971960315640716484228250000000000), Point2D(3970842925972911939036473377492013036016439/7177009765558736030082729497000000000000, 199674374783278270378079588039954241061363/224281555173710500940085296781250000000), Point2D(8238941013117137433323581097210714388536069/9379647458725363442660083545000000000000, 1179543024343436208084166410640857963075773/1563274576454227240443347257500000000000), Point2D(54929846869782394405048779528389094889936239/61796723998451785413653304209000000000000, 325837460564639037628028189787455881567491/965573812475809147088332878265625000000), Point2D(85662382213945739297080178198669503588951241/91862065015505551946993344503000000000000, 529674826386489954279106104126547296499147/956896510578182832781180671906250000000)]\n"
     ]
    },
    {
     "data": {
      "image/svg+xml": [
       "<svg xmlns=\"http://www.w3.org/2000/svg\"\n",
       "            xmlns:xlink=\"http://www.w3.org/1999/xlink\"\n",
       "            width=\"300\" height=\"300\" viewBox=\"282.799843474114 95.5166170162567 721.962732780767 867.019423960036\"\n",
       "            preserveAspectRatio=\"xMinYMin meet\">\n",
       "            <defs>\n",
       "                <marker id=\"markerCircle\" markerWidth=\"8\" markerHeight=\"8\"\n",
       "                    refx=\"5\" refy=\"5\" markerUnits=\"strokeWidth\">\n",
       "                    <circle cx=\"5\" cy=\"5\" r=\"1.5\" style=\"stroke: none; fill:#000000;\"/>\n",
       "                </marker>\n",
       "                <marker id=\"markerArrow\" markerWidth=\"13\" markerHeight=\"13\" refx=\"2\" refy=\"4\"\n",
       "                       orient=\"auto\" markerUnits=\"strokeWidth\">\n",
       "                    <path d=\"M2,2 L2,6 L6,4\" style=\"fill: #000000;\" />\n",
       "                </marker>\n",
       "                <marker id=\"markerReverseArrow\" markerWidth=\"13\" markerHeight=\"13\" refx=\"6\" refy=\"4\"\n",
       "                       orient=\"auto\" markerUnits=\"strokeWidth\">\n",
       "                    <path d=\"M6,2 L6,6 L2,4\" style=\"fill: #000000;\" />\n",
       "                </marker>\n",
       "            </defs><g transform=\"matrix(1,0,0,-1,0,1058.05265799255)\"><path fill-rule=\"evenodd\" fill=\"#66cc99\" stroke=\"#555555\" stroke-width=\"5.78012949306690\" opacity=\"0.6\" d=\"M 355.051462137450,167.768235679593 L 888.879592891665,337.454740750648 L 932.510957591544,553.534076601916 L 878.384933908461,754.533491498877 L 553.272610137486,890.284422312956 L 401.075448691462,886.870615515923 z\" /></g></svg>"
      ],
      "text/plain": [
       "Polygon(Point2D(7101029242749/20000000000, 167768235679593/1000000000000), Point2D(177775918578333/200000000000, 42181842593831/125000000000), Point2D(116563869698943/125000000000, 138383519150479/250000000000), Point2D(878384933908461/1000000000000, 754533491498877/1000000000000), Point2D(276636305068743/500000000000, 222571105578239/250000000000), Point2D(200537724345731/500000000000, 886870615515923/1000000000000))"
      ]
     },
     "execution_count": 201,
     "metadata": {},
     "output_type": "execute_result"
    }
   ],
   "source": [
    "print(len(intersections[0]))\n",
    "print(len(np_intersections[0]))\n",
    "\n",
    "print(intersections[0])\n",
    "np_intersections[0]\n",
    "\n",
    "#pol = sp.Polygon(*intersections[0])\n",
    "pol = sp.Polygon(*np_intersections[0])\n",
    "pol "
   ]
  },
  {
   "cell_type": "code",
   "execution_count": 178,
   "metadata": {},
   "outputs": [
    {
     "data": {
      "image/svg+xml": [
       "<svg xmlns=\"http://www.w3.org/2000/svg\"\n",
       "            xmlns:xlink=\"http://www.w3.org/1999/xlink\"\n",
       "            width=\"300\" height=\"300\" viewBox=\"145.812677909433 53.7099416747764 899.076907895740 951.362466758767\"\n",
       "            preserveAspectRatio=\"xMinYMin meet\">\n",
       "            <defs>\n",
       "                <marker id=\"markerCircle\" markerWidth=\"8\" markerHeight=\"8\"\n",
       "                    refx=\"5\" refy=\"5\" markerUnits=\"strokeWidth\">\n",
       "                    <circle cx=\"5\" cy=\"5\" r=\"1.5\" style=\"stroke: none; fill:#000000;\"/>\n",
       "                </marker>\n",
       "                <marker id=\"markerArrow\" markerWidth=\"13\" markerHeight=\"13\" refx=\"2\" refy=\"4\"\n",
       "                       orient=\"auto\" markerUnits=\"strokeWidth\">\n",
       "                    <path d=\"M2,2 L2,6 L6,4\" style=\"fill: #000000;\" />\n",
       "                </marker>\n",
       "                <marker id=\"markerReverseArrow\" markerWidth=\"13\" markerHeight=\"13\" refx=\"6\" refy=\"4\"\n",
       "                       orient=\"auto\" markerUnits=\"strokeWidth\">\n",
       "                    <path d=\"M6,2 L6,6 L2,4\" style=\"fill: #000000;\" />\n",
       "                </marker>\n",
       "            </defs><g transform=\"matrix(1,0,0,-1,0,1058.78235010832)\"><path fill-rule=\"evenodd\" fill=\"#66cc99\" stroke=\"#555555\" stroke-width=\"6.34241644505845\" opacity=\"0.6\" d=\"M 225.092883472664,727.545136990019 L 362.252923066166,136.749033061330 L 783.063940161820,132.990147238007 L 875.571143191361,271.546168047681 L 965.609380241943,717.450223465932 L 577.969722845759,882.254311306884 L 444.066192220907,925.792202870313 z\" /></g></svg>"
      ],
      "text/plain": [
       "Polygon(Point2D(28136610434083/125000000000, 727545136990019/1000000000000), Point2D(181126461533083/500000000000, 13674903306133/100000000000), Point2D(39153197008091/50000000000, 132990147238007/1000000000000), Point2D(875571143191361/1000000000000, 271546168047681/1000000000000), Point2D(965609380241943/1000000000000, 179362555866483/250000000000), Point2D(577969722845759/1000000000000, 220563577826721/250000000000), Point2D(444066192220907/1000000000000, 925792202870313/1000000000000))"
      ]
     },
     "execution_count": 178,
     "metadata": {},
     "output_type": "execute_result"
    }
   ],
   "source": [
    "i = 0\n",
    "sp.Polygon(*gift_wrapper([points[10*i + j] for j in range(10)]))\n"
   ]
  },
  {
   "cell_type": "code",
   "execution_count": 171,
   "metadata": {},
   "outputs": [
    {
     "data": {
      "image/svg+xml": [
       "<svg xmlns=\"http://www.w3.org/2000/svg\"\n",
       "            xmlns:xlink=\"http://www.w3.org/1999/xlink\"\n",
       "            width=\"300\" height=\"300\" viewBox=\"2.24007759350938 -43.0647807764838 1003.88655813218 1113.21647455841\"\n",
       "            preserveAspectRatio=\"xMinYMin meet\">\n",
       "            <defs>\n",
       "                <marker id=\"markerCircle\" markerWidth=\"8\" markerHeight=\"8\"\n",
       "                    refx=\"5\" refy=\"5\" markerUnits=\"strokeWidth\">\n",
       "                    <circle cx=\"5\" cy=\"5\" r=\"1.5\" style=\"stroke: none; fill:#000000;\"/>\n",
       "                </marker>\n",
       "                <marker id=\"markerArrow\" markerWidth=\"13\" markerHeight=\"13\" refx=\"2\" refy=\"4\"\n",
       "                       orient=\"auto\" markerUnits=\"strokeWidth\">\n",
       "                    <path d=\"M2,2 L2,6 L6,4\" style=\"fill: #000000;\" />\n",
       "                </marker>\n",
       "                <marker id=\"markerReverseArrow\" markerWidth=\"13\" markerHeight=\"13\" refx=\"6\" refy=\"4\"\n",
       "                       orient=\"auto\" markerUnits=\"strokeWidth\">\n",
       "                    <path d=\"M6,2 L6,6 L2,4\" style=\"fill: #000000;\" />\n",
       "                </marker>\n",
       "            </defs><g transform=\"matrix(1,0,0,-1,0,1027.08691300544)\"><path fill-rule=\"evenodd\" fill=\"#66cc99\" stroke=\"#555555\" stroke-width=\"7.42144316372270\" opacity=\"0.6\" d=\"M 95.0081171400432,750.476528490487 L 99.2949769864462,417.428663722811 L 503.428916718335,125.491845026783 L 913.358596179154,49.7032587700500 L 713.186058621329,643.981558685506 L 594.469024737794,804.259911113582 L 383.395209357040,977.383654235388 z\" /></g></svg>"
      ],
      "text/plain": [
       "Polygon(Point2D(59380073212527/625000000000, 750476528490487/1000000000000), Point2D(496474884932231/5000000000000, 417428663722811/1000000000000), Point2D(100685783343667/200000000000, 125491845026783/1000000000000), Point2D(456679298089577/500000000000, 994065175401/20000000000), Point2D(713186058621329/1000000000000, 321990779342753/500000000000), Point2D(297234512368897/500000000000, 402129955556791/500000000000), Point2D(4792440116963/12500000000, 244345913558847/250000000000))"
      ]
     },
     "execution_count": 171,
     "metadata": {},
     "output_type": "execute_result"
    }
   ],
   "source": [
    "sp.Polygon(*gift_wrapper([points2[10*i + j] for j in range(10)]))"
   ]
  },
  {
   "cell_type": "markdown",
   "metadata": {},
   "source": [
    "## Checking time for calculating areas "
   ]
  },
  {
   "cell_type": "code",
   "execution_count": 207,
   "metadata": {},
   "outputs": [
    {
     "name": "stdout",
     "output_type": "stream",
     "text": [
      "Time spent in sympy area is  1.9905603876031819\n"
     ]
    }
   ],
   "source": [
    "area = []\n",
    "np_area = []\n",
    "\n",
    "inicial_time = clock()\n",
    "for pol in intersections:\n",
    "    if len(pol) < 3:\n",
    "        #print(\"Not polygon in \", i)\n",
    "        continue\n",
    "    pol = gift_wrapper(pol)\n",
    "    pol = sp.Polygon(*pol)\n",
    "    area.append(pol.area)\n",
    "final_time = clock()\n",
    "\n",
    "print(\"Time spent in sympy area is \", final_time - inicial_time)"
   ]
  },
  {
   "cell_type": "code",
   "execution_count": 208,
   "metadata": {},
   "outputs": [
    {
     "name": "stdout",
     "output_type": "stream",
     "text": [
      "Time spent in area now 0.038475882252896554\n"
     ]
    }
   ],
   "source": [
    "inicial_time = clock()\n",
    "for pol in np_intersections:\n",
    "    if len(pol) < 3:\n",
    "        #print(\"Not polygon in \", i)\n",
    "        continue\n",
    "    pol = gift_wrapper(pol)\n",
    "    np_area.append(polygon_area(pol))\n",
    "final_time = clock()\n",
    "\n",
    "print(\"Time spent in area now\", final_time - inicial_time)\n",
    "\n"
   ]
  },
  {
   "cell_type": "code",
   "execution_count": 252,
   "metadata": {},
   "outputs": [],
   "source": [
    "for i in range(len(np_area)):\n",
    "    if not np.isclose(np_area[i], np.array(area[i], dtype=np.float64)):\n",
    "        print(\"Check \", i)"
   ]
  }
 ],
 "metadata": {
  "kernelspec": {
   "display_name": "Python 3",
   "language": "python",
   "name": "python3"
  },
  "language_info": {
   "codemirror_mode": {
    "name": "ipython",
    "version": 3
   },
   "file_extension": ".py",
   "mimetype": "text/x-python",
   "name": "python",
   "nbconvert_exporter": "python",
   "pygments_lexer": "ipython3",
   "version": "3.6.3"
  }
 },
 "nbformat": 4,
 "nbformat_minor": 2
}
