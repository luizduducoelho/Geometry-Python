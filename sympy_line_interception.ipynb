{
 "cells": [
  {
   "cell_type": "markdown",
   "metadata": {},
   "source": [
    "## Imports"
   ]
  },
  {
   "cell_type": "code",
   "execution_count": 1,
   "metadata": {},
   "outputs": [],
   "source": [
    "import numpy as np \n",
    "from sympy.geometry import Segment, intersection\n",
    "from time import clock "
   ]
  },
  {
   "cell_type": "markdown",
   "metadata": {},
   "source": [
    "## Creating Sympy segments"
   ]
  },
  {
   "cell_type": "code",
   "execution_count": null,
   "metadata": {},
   "outputs": [],
   "source": [
    "number_of_segments = 1000\n",
    "\n",
    "#points = []\n",
    "#for _ in range(2 * number_of_segments):\n",
    "#\tpoints.append(1000 * np.random.random_sample(2))\n",
    "points = 1000 * np.random.random_sample([2*number_of_segments, 2])\n",
    "\n",
    "segments = []\n",
    "for i in range(number_of_segments):\n",
    "\tsegments.append(Segment(points[2*i], points[2*i + 1]))\n",
    "\n",
    "segments2 = segments\n",
    "np.random.shuffle(segments2)\n",
    "interceptions = []"
   ]
  },
  {
   "cell_type": "code",
   "execution_count": null,
   "metadata": {},
   "outputs": [],
   "source": [
    "len(segments)"
   ]
  },
  {
   "cell_type": "markdown",
   "metadata": {},
   "source": [
    "## Calculating time for Sympy"
   ]
  },
  {
   "cell_type": "code",
   "execution_count": null,
   "metadata": {},
   "outputs": [],
   "source": [
    "inicial_time = clock()\n",
    "for segment1, segment2 in zip(segments, segments2):\n",
    "    interceptions.append(intersection(segment1, segment2))\n",
    "final_time = clock()\n",
    "#print(interceptions)\n",
    "\n",
    "time_spent = final_time - inicial_time\n",
    "print(\"Time spent in calculating interceptions using sympy = {}\".format(time_spent))"
   ]
  },
  {
   "cell_type": "markdown",
   "metadata": {},
   "source": [
    "## Implementing intersection function"
   ]
  },
  {
   "cell_type": "code",
   "execution_count": 2,
   "metadata": {},
   "outputs": [],
   "source": [
    "def return_overlapping(p,q,r,s):\n",
    "    \n",
    "    t0 = np.dot(q-p,r)/np.dot(r,r)\n",
    "    t1 = np.dot(q+s-p,r)/np.dot(r,r)\n",
    "    seg = []\n",
    "    \n",
    "    if (np.dot(s,r) >= 0):\n",
    "        \n",
    "        if t1 < 0 or t0 > 1:\n",
    "            print(\"Here1\")\n",
    "            return []\n",
    "        elif t1 == 0:\n",
    "            print(\"Here2\")\n",
    "            return p\n",
    "        elif t0 == 1:\n",
    "            print(\"Here3\")\n",
    "            return p+r\n",
    "        if (0 < t0 < 1):\n",
    "            print(\"Here4\")\n",
    "            seg.append(p+t0*r)\n",
    "        elif t0 <= 0: \n",
    "            print(\"Here5\")\n",
    "            seg.append(p) \n",
    "        if (0 < t1 < 1):\n",
    "            print(\"Here6\")\n",
    "            seg.append(p+t1*r)\n",
    "        elif t1 >= 1: \n",
    "            print(\"Here7\")\n",
    "            seg.append(p+r)\n",
    "            \n",
    "\n",
    "    elif (np.dot(s,r) < 0):\n",
    "        if t0 < 0 or t1 > 1:\n",
    "            print(\"here1\")\n",
    "            return []\n",
    "        elif t0 == 0:\n",
    "            print(\"here2\")\n",
    "            return p\n",
    "        elif t1 == 1:\n",
    "            print(\"here3\")\n",
    "            return p+r\n",
    "        if (0 < t1 < 1):\n",
    "            print(\"here4\")\n",
    "            seg.append(p+t1*r)\n",
    "        elif t1 <= 0: \n",
    "            print(\"here5\")\n",
    "            seg.append(p) \n",
    "        if (0 < t0 < 1):\n",
    "            print(\"here6\")\n",
    "            seg.append(p+t0*r)        \n",
    "        elif t0 >= 1:\n",
    "            print(\"here7\")\n",
    "            seg.append(p+r)\n",
    "                    \n",
    "    return seg"
   ]
  },
  {
   "cell_type": "code",
   "execution_count": 3,
   "metadata": {},
   "outputs": [],
   "source": [
    "def colin_overlapping(p,q,r,s):\n",
    "    #Projecting in x axis:\n",
    "    px = p[0]\n",
    "    qx = q[0]\n",
    "    rx = r[0]\n",
    "    sx = s[0]\n",
    "    \n",
    "    #Back in the original space\n",
    "    reverse_dict = {px: p, qx: q, rx:r, sx:s}\n",
    "    \n",
    "    seg1 = sorted([px, rx])  \n",
    "    seg2 = sorted([qx, sx])\n",
    "    \n",
    "    if (seg1[1] - seg2[0] >= 0) and (seg2[0] - seg1[1] >= 0):  #There is overlap \n",
    "        interval = [max(seg1[0], seg2[0]), min(seg1[1], seg2[1])]\n",
    "    else:\n",
    "        return []\n",
    "    \n",
    "    original_interval = [reverse_dict[interval[0]], reverse_dict[interval[1]]]\n",
    "    \n",
    "    if (original_interval[0].all() == original_interval[1].all()):\n",
    "        return original_interval[0]\n",
    "    else:\n",
    "        return original_interval"
   ]
  },
  {
   "cell_type": "code",
   "execution_count": 18,
   "metadata": {},
   "outputs": [],
   "source": [
    "def np_intersection(segment1, segment2):\n",
    "    # For math reference see https://stackoverflow.com/questions/563198/whats-the-most-efficent-way-to-calculate-where-two-line-segments-intersect\n",
    "    # segment1 = (p, p+r) =  p + t*r \n",
    "    # segment2 = (q, q+s) =  q + u*s , parametric form\n",
    "\n",
    "    # Line intersects if there is t and u, so that \n",
    "    # p + t*r = q + u*s\n",
    "    # Or, using cross product with pt2\n",
    "    # t*(r X s) = (q - p) X s\n",
    "    \n",
    "    p = segment1[0]\n",
    "    q = segment2[0]\n",
    "    r = (segment1[1] - segment1[0])\n",
    "    s = (segment2[1] - segment2[0])\n",
    "    r_cross_s = np.cross(r, s)  \n",
    "    \n",
    "    if r_cross_s == 0:\n",
    "        if np.cross(q-p, r) == 0:\n",
    "            # Segments are colinear\n",
    "            seg = return_overlapping(p, q, r, s)\n",
    "            return seg\n",
    "            \n",
    "        else:\n",
    "            # Segments are parallel and non-intersecting\n",
    "            return []\n",
    "    \n",
    "    t = np.cross(q-p, s) / r_cross_s\n",
    "    u = np.cross(q-p, r) / r_cross_s\n",
    "\n",
    "    if (0 <= t <= 1) and (0 <= u <= 1):\n",
    "        #Segments intersect in one point \n",
    "        return [p + t*r]\n",
    "    else:\n",
    "        # Segments do not intersect \n",
    "        return []"
   ]
  },
  {
   "cell_type": "code",
   "execution_count": 19,
   "metadata": {},
   "outputs": [
    {
     "data": {
      "text/plain": [
       "[]"
      ]
     },
     "execution_count": 19,
     "metadata": {},
     "output_type": "execute_result"
    }
   ],
   "source": [
    "P1 = np.array([0,1])\n",
    "P2 = np.array([0,0])\n",
    "Q1 = np.array([0,2])\n",
    "Q2 = np.array([1,-1])\n",
    "\n",
    "s1 = np.stack((P1, P2))\n",
    "s2 = np.stack((Q1, Q2))\n",
    "#print(s1)\n",
    "#print(s2)\n",
    "p = np_intersection(s1, s2)\n",
    "p"
   ]
  },
  {
   "cell_type": "markdown",
   "metadata": {},
   "source": [
    "## Calculating time for new function "
   ]
  },
  {
   "cell_type": "code",
   "execution_count": null,
   "metadata": {},
   "outputs": [],
   "source": [
    "np.stack((points[0], points[1])).shape"
   ]
  },
  {
   "cell_type": "code",
   "execution_count": null,
   "metadata": {},
   "outputs": [],
   "source": [
    "points2 = points\n",
    "np.random.shuffle(points2)\n",
    "np_interceptions = []\n",
    "inicial_time = clock()\n",
    "for i in range(1000):\n",
    "    np_interceptions.append(np_intersection(np.stack((points[2*i], points[2*i+1])), np.stack((points2[2*1],points2[2*1+1] ))))\n",
    "final_time = clock()\n",
    "#print(interceptions)\n",
    "\n",
    "time_spent = final_time - inicial_time\n",
    "print(\"Time spent in calculating interceptions using sympy = {}\".format(time_spent))"
   ]
  }
 ],
 "metadata": {
  "kernelspec": {
   "display_name": "Python 3",
   "language": "python",
   "name": "python3"
  },
  "language_info": {
   "codemirror_mode": {
    "name": "ipython",
    "version": 3
   },
   "file_extension": ".py",
   "mimetype": "text/x-python",
   "name": "python",
   "nbconvert_exporter": "python",
   "pygments_lexer": "ipython3",
   "version": "3.6.3"
  }
 },
 "nbformat": 4,
 "nbformat_minor": 2
}
