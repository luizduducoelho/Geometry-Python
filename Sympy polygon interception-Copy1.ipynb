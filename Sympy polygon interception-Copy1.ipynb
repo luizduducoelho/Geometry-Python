{
 "cells": [
  {
   "cell_type": "markdown",
   "metadata": {},
   "source": [
    "## Imports "
   ]
  },
  {
   "cell_type": "code",
   "execution_count": 1,
   "metadata": {},
   "outputs": [],
   "source": [
    "import numpy as np \n",
    "import sympy.geometry as sp\n",
    "from time import clock "
   ]
  },
  {
   "cell_type": "markdown",
   "metadata": {},
   "source": [
    "## Creating Sympy polygons"
   ]
  },
  {
   "cell_type": "code",
   "execution_count": 2,
   "metadata": {},
   "outputs": [
    {
     "name": "stdout",
     "output_type": "stream",
     "text": [
      "Polygon(Point2D(1/3, 1), Point2D(2/3, 0), Point2D(9/5, 1/5), Point2D(7/3, 1))\n"
     ]
    }
   ],
   "source": [
    "p1, p2, p3, p4 = [(0, 0), (1, 0), (5, 1), (0, 1)]\n",
    "p5, p6, p7 = [(3, 2), (1, -1), (0, 2)]\n",
    "pol1 = sp.Polygon(p1, p2, p3, p4)\n",
    "pol2 = sp.Polygon(p5,p6, p7)\n",
    "\n",
    "r = pol1.intersection(pol2)\n",
    "polr = sp.Polygon(*r)\n",
    "print(polr)"
   ]
  },
  {
   "cell_type": "markdown",
   "metadata": {},
   "source": [
    "## Implementation in python"
   ]
  },
  {
   "cell_type": "code",
   "execution_count": 3,
   "metadata": {},
   "outputs": [
    {
     "name": "stdout",
     "output_type": "stream",
     "text": [
      "v\n",
      "None\n",
      "[0, 0]\n",
      "5\n"
     ]
    }
   ],
   "source": [
    "P = np.array(([0,0], [1,1], [2,5], [5,9], [-5,7]))\n",
    "l = len(P)\n",
    "a, b, code =   'v', *[None, [0,0]] \n",
    "print(a)\n",
    "print(b)\n",
    "print(code)\n",
    "print(l)"
   ]
  },
  {
   "cell_type": "code",
   "execution_count": 4,
   "metadata": {},
   "outputs": [],
   "source": [
    "# SegSegInt: Finds the point of intersection p between two closed\n",
    "# segments ab and cd.  Returns p and a char with the following meaning:\n",
    "#   'e': The segments collinearly overlap, sharing a point.\n",
    "#   'v': An endpoint (vertex) of one segment is on the other segment,\n",
    "#        but 'e' doesn't hold.\n",
    "#   '1': The segments intersect properly (i.e., they share a point and\n",
    "#        neither 'v' nor 'e' holds).\n",
    "#   '0': The segments do not intersect (i.e., they share no points).\n",
    "# Note that two collinear segments that share just one point, an endpoint\n",
    "# of each, returns 'e' rather than 'v' as one might expect.\n",
    "\n",
    "def segsegint(a1, a, b1, b):\n",
    "    # For math reference see https://stackoverflow.com/questions/563198/whats-the-most-efficent-way-to-calculate-where-two-line-segments-intersect\n",
    "    # segment1 = (p, p+r) =  p + t*r \n",
    "    # segment2 = (q, q+s) =  q + u*s , parametric form\n",
    "\n",
    "    # Line intersects if there is t and u, so that \n",
    "    # p + t*r = q + u*s\n",
    "    # Or, using cross product with pt2\n",
    "    # t*(r X s) = (q - p) X s\n",
    "    \n",
    "    code = '?'\n",
    "    p = a1\n",
    "    q = b1\n",
    "    r = (a - a1)\n",
    "    s = (b - b1)\n",
    "    r_cross_s = np.cross(r, s) \n",
    "    \n",
    "    if r_cross_s == 0:\n",
    "        if np.cross(q-p, r) == 0:\n",
    "            # Segments are colinear\n",
    "            code = 'e'\n",
    "            seg = return_overlapping(p, q, r, s)\n",
    "            return code, seg[0], seg[1]\n",
    "            \n",
    "        else:\n",
    "            # Segments are parallel and non-intersecting\n",
    "            code = 0\n",
    "            return code, None, None\n",
    "\n",
    "    t = np.cross(q-p, s) / r_cross_s\n",
    "    u = np.cross(q-p, r) / r_cross_s\n",
    "\n",
    "    if (0 <= t <= 1) and (0 <= u <= 1):\n",
    "        #Segments intersect in one point\n",
    "        if t==0 or t==1 or u==0 or u==1:\n",
    "            code = 'v'\n",
    "        else:\n",
    "            code = 1\n",
    "        return code, p + t*r, None\n",
    "    else:\n",
    "        # Segments do not intersect \n",
    "        code = 0\n",
    "        return code, None, None\n",
    "    \n",
    "def return_overlapping(p,q,r,s):\n",
    "    \n",
    "    t0 = np.dot(q-p,r)/np.dot(r,r)\n",
    "    t1 = np.dot(q+s-p,r)/np.dot(r,r)\n",
    "    seg = []\n",
    "    \n",
    "    if (np.dot(s,r) >= 0):\n",
    "        \n",
    "        if t1 < 0 or t0 > 1:\n",
    "            print(\"Here1\")\n",
    "            return [None, None]\n",
    "        elif t1 == 0:\n",
    "            print(\"Here2\")\n",
    "            return (p, None)\n",
    "        elif t0 == 1:\n",
    "            print(\"Here3\")\n",
    "            return (p+r, None)\n",
    "        if (0 < t0 < 1):\n",
    "            print(\"Here4\")\n",
    "            seg.append(p+t0*r)\n",
    "        elif t0 <= 0: \n",
    "            print(\"Here5\")\n",
    "            seg.append(p) \n",
    "        if (0 < t1 < 1):\n",
    "            print(\"Here6\")\n",
    "            seg.append(p+t1*r)\n",
    "        elif t1 >= 1: \n",
    "            print(\"Here7\")\n",
    "            seg.append(p+r)\n",
    "            \n",
    "\n",
    "    elif (np.dot(s,r) < 0):\n",
    "        if t0 < 0 or t1 > 1:\n",
    "            print(\"here1\")\n",
    "            return [None, None]\n",
    "        elif t0 == 0:\n",
    "            print(\"here2\")\n",
    "            return (p, None)\n",
    "        elif t1 == 1:\n",
    "            print(\"here3\")\n",
    "            return (p+r, None)\n",
    "        if (0 < t1 < 1):\n",
    "            print(\"here4\")\n",
    "            seg.append(p+t1*r)\n",
    "        elif t1 <= 0: \n",
    "            print(\"here5\")\n",
    "            seg.append(p) \n",
    "        if (0 < t0 < 1):\n",
    "            print(\"here6\")\n",
    "            seg.append(p+t0*r)        \n",
    "        elif t0 >= 1:\n",
    "            print(\"here7\")\n",
    "            seg.append(p+r)\n",
    "                    \n",
    "    return seg\n",
    "    "
   ]
  },
  {
   "cell_type": "code",
   "execution_count": 5,
   "metadata": {},
   "outputs": [
    {
     "name": "stdout",
     "output_type": "stream",
     "text": [
      "0 None None\n"
     ]
    }
   ],
   "source": [
    "P1 = np.array([5,1])\n",
    "P2 = np.array([0,1])\n",
    "Q1 = np.array([3,2])\n",
    "Q2 = np.array([0,2])\n",
    "\n",
    "code, p, q = segsegint(P1, P2, Q1, Q2)\n",
    "print(code, p, q)"
   ]
  },
  {
   "cell_type": "code",
   "execution_count": 6,
   "metadata": {},
   "outputs": [],
   "source": [
    "def inout(p, inflag, aHB, bHA):\n",
    "    #Add point\n",
    "    I.append(p)\n",
    "    \n",
    "    # Update inflag\n",
    "    if aHB > 0:\n",
    "        return 'Pin'\n",
    "    elif bHA > 0:\n",
    "        return 'Qin'\n",
    "    else:     #Keep status quo\n",
    "        return inflag"
   ]
  },
  {
   "cell_type": "code",
   "execution_count": 7,
   "metadata": {},
   "outputs": [],
   "source": [
    "def advance(a, aa, n, inside, v):\n",
    "    if inside:\n",
    "        # Add point\n",
    "        #I.append(v)\n",
    "        #print(\"Found point {} of polygon!\".format(v))\n",
    "        pass\n",
    "    aa += 1\n",
    "    return (a+1) % n, aa"
   ]
  },
  {
   "cell_type": "code",
   "execution_count": 8,
   "metadata": {},
   "outputs": [],
   "source": [
    "def area_sign(o, a, b):\n",
    "    '''\n",
    "    Verify if the cross product of\n",
    "    oa X ob is positive, negative or zero\n",
    "    o stands of origin, a and b are vectors\n",
    "    '''\n",
    "    A = a - o \n",
    "    B = b - o \n",
    "    area = np.cross(A, B)\n",
    "    \n",
    "    if area > 0:\n",
    "        return 1 \n",
    "    elif area < 0:\n",
    "        return -1\n",
    "    else:\n",
    "        return 0 "
   ]
  },
  {
   "cell_type": "code",
   "execution_count": 13,
   "metadata": {},
   "outputs": [
    {
     "data": {
      "text/plain": [
       "[array([1.8, 0.2]),\n",
       " array([2.33333333, 1.        ]),\n",
       " array([0.33333333, 1.        ]),\n",
       " array([0.66666667, 0.        ])]"
      ]
     },
     "execution_count": 13,
     "metadata": {},
     "output_type": "execute_result"
    }
   ],
   "source": [
    "def convex_intersect(P, Q):\n",
    "    \n",
    "    # Inicializing variables\n",
    "    a, b = 0, 0              # Indices of P and Q respectivaly\n",
    "    aa, ba, = 0, 0           # Advvances on a and b\n",
    "    n, m = len(P), len(Q)    # Number of vertices of polygons\n",
    "    inflag = 'Unknow'        # Which polygon is 'inside' \n",
    "    FirstPoint = True \n",
    "    global i \n",
    "    i = 0 #test\n",
    "    global I \n",
    "    I = []  # The intersection polygon\n",
    "    \n",
    "    # Main loop\n",
    "    while ((aa < n) or (ba < m)) and (aa < 2*n) and (ba < 2*m) :   #If both looped or one looped twice through polygon\n",
    "        i += 1\n",
    "        # a-1 and b-1, respectivaly \n",
    "        a1 = (a + n - 1) % n\n",
    "        b1 = (b + m - 1) % m \n",
    "        \n",
    "        # A and B are the subvectors that describe a1 to a (the edge of polygon)\n",
    "        A = P[a] - P[a1]\n",
    "        B = Q[b] - Q[b1]\n",
    "      \n",
    "        # Cheching cross products to predict advance\n",
    "        origin = np.array([0, 0])\n",
    "        cross = area_sign(origin, A, B)\n",
    "        aHB = area_sign(Q[b1], Q[b], P[a])  # a is in the halfplane to the left of B\n",
    "        bHA = area_sign(P[a1], P[a], Q[b])  # b is in the halfplane to the left of A\n",
    "        #print(\"Cross\", cross)\n",
    "        \n",
    "        # If A and B intersect, change the inflag \n",
    "        # code is the kind of intersection, p and q are the intersetion points, if exists\n",
    "        code, p, q = segsegint(P[a1], P[a], Q[b1], Q[b])\n",
    "        if code == 1 or code =='v':\n",
    "            if inflag == 'Unknow' and FirstPoint:\n",
    "                aa, ab = 0, 0 \n",
    "                FirstPoint = False \n",
    "                p0 = p    # p0 is the first point\n",
    "                #I.append(p0)\n",
    "            inflag = inout(p, inflag, aHB, bHA)\n",
    "        \n",
    "        # ADVANCE RULES\n",
    "        \n",
    "        # Special case: A & B overlap and oppositely oriented\n",
    "        if code == 'e' and np.dot(A, B) < 0:\n",
    "            raise SystemExit\n",
    "        \n",
    "        # Special case: A & B parallel and separated\n",
    "        if cross == 0 and aHB < 0 and bHA < 0:\n",
    "            print(\"P and Q are disjoint\")\n",
    "            raise SystemExit\n",
    "        \n",
    "        # Special case: A & B are collinear\n",
    "        elif cross == 0 and aHB == 0 and bHA == 0:\n",
    "            if inflag == 'Pin':\n",
    "                b, ba = advance(b, ba, m, inflag=='Qin', Q[b])\n",
    "            else:\n",
    "                a, aa = advance(a, aa, n, inflag=='Pin', P[a])\n",
    "        \n",
    "        # Generic cases\n",
    "        elif cross >= 0:\n",
    "            if bHA > 0:\n",
    "                a, aa = advance(a, aa, n, inflag=='Pin', P[a])\n",
    "            else:\n",
    "                b, ba = advance(b, ba, m, inflag=='Qin', Q[b])\n",
    "        \n",
    "        else:  # cross<0\n",
    "            if aHB > 0:\n",
    "                b, ba = advance(b, ba, m, inflag=='Qin', Q[b])\n",
    "            else:\n",
    "                a, aa = advance(a, aa, n, inflag=='Pin', P[a])\n",
    "                \n",
    "    if not FirstPoint:  # If found at least one point\n",
    "        # I.append(p0)\n",
    "        pass\n",
    "        \n",
    "    if inflag == \"Unknow\":\n",
    "        print(\"The boundaries of P and Q do not cross\")\n",
    "    \n",
    "    return(I)\n",
    "\n",
    "P = np.array([(5, 1), (0, 1), (0, 0), (1, 0)])\n",
    "Q = np.array([(3, 2), (0, 2), (1, -1)])\n",
    "convex_intersect(P, Q)\n"
   ]
  },
  {
   "cell_type": "code",
   "execution_count": null,
   "metadata": {},
   "outputs": [],
   "source": [
    "c, p, q = segsegint(np.array([0, 1]), np.array([0, 0]), np.array([0, 2]), np.array([1, -1]))\n",
    "print(c,p,q)"
   ]
  },
  {
   "cell_type": "code",
   "execution_count": null,
   "metadata": {},
   "outputs": [],
   "source": [
    "A = np.array([2, 2])\n",
    "B = np.array([1, 1])\n",
    "C = A - B\n",
    "C"
   ]
  },
  {
   "cell_type": "code",
   "execution_count": null,
   "metadata": {},
   "outputs": [],
   "source": []
  }
 ],
 "metadata": {
  "kernelspec": {
   "display_name": "Python 3",
   "language": "python",
   "name": "python3"
  },
  "language_info": {
   "codemirror_mode": {
    "name": "ipython",
    "version": 3
   },
   "file_extension": ".py",
   "mimetype": "text/x-python",
   "name": "python",
   "nbconvert_exporter": "python",
   "pygments_lexer": "ipython3",
   "version": "3.6.3"
  }
 },
 "nbformat": 4,
 "nbformat_minor": 2
}
