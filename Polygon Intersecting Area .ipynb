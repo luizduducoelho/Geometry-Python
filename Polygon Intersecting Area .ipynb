{
 "cells": [
  {
   "cell_type": "code",
   "execution_count": 3,
   "metadata": {},
   "outputs": [],
   "source": [
    "import numpy as np\n",
    "from poly_poly_intersect import gift_wrapper, convex_intersect, polygon_area\n",
    "from point_in_polygon import polygon_inside_points\n",
    "import sympy.geometry as sp"
   ]
  },
  {
   "cell_type": "code",
   "execution_count": 102,
   "metadata": {},
   "outputs": [],
   "source": [
    "def polygon_intersect_area(P, Q):\n",
    "    '''\n",
    "    Returns the area shared by two convex polygons\n",
    "    '''\n",
    "    \n",
    "    # Test for convexity\n",
    "    n = len(P)\n",
    "    m = len(Q)\n",
    "    P = gift_wrapper(P)\n",
    "    Q = gift_wrapper(Q)\n",
    "    assert n == len(P), \"First polygon is not convex\"\n",
    "    assert m == len(Q), \"Second polygon is not convex\"\n",
    "    \n",
    "    # Find intersection points of polygons edges\n",
    "    I = convex_intersect(P, Q)\n",
    "    \n",
    "    # Find points of P inside Q and vice-versa\n",
    "    t = polygon_inside_points(P, Q)\n",
    "    s = polygon_inside_points(Q, P)\n",
    "    \n",
    "    # Concatenate points \n",
    "    if len(t) > 0:\n",
    "        I = np.concatenate([I, t], axis=0)\n",
    "    if len(s) > 0:\n",
    "        I = np.concatenate([I, s], axis=0)\n",
    "    \n",
    "    # If there are points, make their order sequential\n",
    "    if len(I)>0:\n",
    "        I = gift_wrapper(I)\n",
    "        # Return area\n",
    "        return polygon_area(I), I\n",
    "    \n",
    "    else:\n",
    "        return []\n",
    "    \n",
    "    "
   ]
  },
  {
   "cell_type": "code",
   "execution_count": 120,
   "metadata": {},
   "outputs": [],
   "source": [
    "pol1 = np.array([[0, 0], [10, 0], [15, 12], [5, 20], [-5, 12]]) \n",
    "pol2 = np.array([[12, 15], [7, 13], [8, -2], [14, -1]])"
   ]
  },
  {
   "cell_type": "code",
   "execution_count": 121,
   "metadata": {},
   "outputs": [
    {
     "data": {
      "text/plain": [
       "(64.39358974358974, array([[ 7.        , 13.        ],\n",
       "        [ 7.86666667,  0.        ],\n",
       "        [10.        ,  0.        ],\n",
       "        [12.98076923,  7.15384615],\n",
       "        [12.08333333, 14.33333333],\n",
       "        [11.5       , 14.8       ]]))"
      ]
     },
     "execution_count": 121,
     "metadata": {},
     "output_type": "execute_result"
    }
   ],
   "source": [
    "polygon_intersect_area(pol1, pol2)"
   ]
  },
  {
   "cell_type": "code",
   "execution_count": 113,
   "metadata": {},
   "outputs": [],
   "source": [
    "P = sp.Polygon(*pol1)"
   ]
  },
  {
   "cell_type": "code",
   "execution_count": 114,
   "metadata": {},
   "outputs": [],
   "source": [
    "Q = sp.Polygon(*pol2)"
   ]
  },
  {
   "cell_type": "code",
   "execution_count": 122,
   "metadata": {},
   "outputs": [
    {
     "data": {
      "text/plain": [
       "[Point2D(118/15, 0),\n",
       " Point2D(23/2, 74/5),\n",
       " Point2D(145/12, 43/3),\n",
       " Point2D(675/52, 93/13)]"
      ]
     },
     "execution_count": 122,
     "metadata": {},
     "output_type": "execute_result"
    }
   ],
   "source": [
    "ints = sp.intersection(P, Q)\n",
    "ints"
   ]
  },
  {
   "cell_type": "code",
   "execution_count": 129,
   "metadata": {},
   "outputs": [
    {
     "ename": "GeometryError",
     "evalue": "Polygon has intersecting sides.",
     "output_type": "error",
     "traceback": [
      "\u001b[1;31m---------------------------------------------------------------------------\u001b[0m",
      "\u001b[1;31mGeometryError\u001b[0m                             Traceback (most recent call last)",
      "\u001b[1;32m<ipython-input-129-02d9096c2a78>\u001b[0m in \u001b[0;36m<module>\u001b[1;34m()\u001b[0m\n\u001b[1;32m----> 1\u001b[1;33m \u001b[0mI\u001b[0m \u001b[1;33m=\u001b[0m \u001b[0msp\u001b[0m\u001b[1;33m.\u001b[0m\u001b[0mPolygon\u001b[0m\u001b[1;33m(\u001b[0m\u001b[1;33m*\u001b[0m\u001b[1;33m[\u001b[0m\u001b[1;33m[\u001b[0m\u001b[1;36m7\u001b[0m\u001b[1;33m,\u001b[0m\u001b[1;36m13\u001b[0m\u001b[1;33m]\u001b[0m\u001b[1;33m,\u001b[0m\u001b[1;33m*\u001b[0m\u001b[0mints\u001b[0m\u001b[1;33m,\u001b[0m \u001b[1;33m[\u001b[0m\u001b[1;36m10\u001b[0m\u001b[1;33m,\u001b[0m\u001b[1;36m0\u001b[0m\u001b[1;33m]\u001b[0m\u001b[1;33m]\u001b[0m\u001b[1;33m)\u001b[0m\u001b[1;33m.\u001b[0m\u001b[0marea\u001b[0m\u001b[1;33m\u001b[0m\u001b[0m\n\u001b[0m\u001b[0;32m      2\u001b[0m \u001b[0mI\u001b[0m\u001b[1;33m\u001b[0m\u001b[0m\n",
      "\u001b[1;32m~\\Anaconda3\\envs\\sympy\\lib\\site-packages\\sympy\\geometry\\polygon.py\u001b[0m in \u001b[0;36m__new__\u001b[1;34m(cls, *args, **kwargs)\u001b[0m\n\u001b[0;32m    197\u001b[0m                         \u001b[1;32mif\u001b[0m \u001b[0mall\u001b[0m\u001b[1;33m(\u001b[0m\u001b[0mi\u001b[0m\u001b[1;33m.\u001b[0m\u001b[0mis_number\u001b[0m \u001b[1;32mfor\u001b[0m \u001b[0mi\u001b[0m \u001b[1;32min\u001b[0m \u001b[0mhit\u001b[0m\u001b[1;33m.\u001b[0m\u001b[0margs\u001b[0m\u001b[1;33m)\u001b[0m\u001b[1;33m:\u001b[0m\u001b[1;33m\u001b[0m\u001b[0m\n\u001b[0;32m    198\u001b[0m                             raise GeometryError(\n\u001b[1;32m--> 199\u001b[1;33m                                 \"Polygon has intersecting sides.\")\n\u001b[0m\u001b[0;32m    200\u001b[0m \u001b[1;33m\u001b[0m\u001b[0m\n\u001b[0;32m    201\u001b[0m         \u001b[1;32mreturn\u001b[0m \u001b[0mrv\u001b[0m\u001b[1;33m\u001b[0m\u001b[0m\n",
      "\u001b[1;31mGeometryError\u001b[0m: Polygon has intersecting sides."
     ]
    }
   ],
   "source": [
    "I = sp.Polygon(*[[7,13],*ints, [10,0]]).area\n",
    "I"
   ]
  },
  {
   "cell_type": "code",
   "execution_count": 130,
   "metadata": {},
   "outputs": [
    {
     "data": {
      "text/plain": [
       "-13323/650"
      ]
     },
     "execution_count": 130,
     "metadata": {},
     "output_type": "execute_result"
    }
   ],
   "source": [
    "polygon_area(np.array([*ints, [10,0], [7,13]]))"
   ]
  },
  {
   "cell_type": "code",
   "execution_count": null,
   "metadata": {},
   "outputs": [],
   "source": []
  }
 ],
 "metadata": {
  "kernelspec": {
   "display_name": "Python 3",
   "language": "python",
   "name": "python3"
  },
  "language_info": {
   "codemirror_mode": {
    "name": "ipython",
    "version": 3
   },
   "file_extension": ".py",
   "mimetype": "text/x-python",
   "name": "python",
   "nbconvert_exporter": "python",
   "pygments_lexer": "ipython3",
   "version": "3.6.3"
  }
 },
 "nbformat": 4,
 "nbformat_minor": 2
}
