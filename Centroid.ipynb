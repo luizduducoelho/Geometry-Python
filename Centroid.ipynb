{
 "cells": [
  {
   "cell_type": "code",
   "execution_count": null,
   "metadata": {},
   "outputs": [],
   "source": [
    "import numpy as np\n",
    "import sympy.geometry as sp\n",
    "from poly_poly_intersect import * "
   ]
  },
  {
   "cell_type": "code",
   "execution_count": null,
   "metadata": {},
   "outputs": [],
   "source": [
    "def polygon_centroid(P):\n",
    "    \n",
    "    area = polygon_area(P)\n",
    "    n = len(P)\n",
    "    \n",
    "    C = np.array([0,0])\n",
    "    \n",
    "    for i in range(n):\n",
    "        j = (i+1)%n\n",
    "        C += (P[i] + P[j]) * np.cross(P[i], P[j])\n",
    "    \n",
    "    return C/(6*area)\n"
   ]
  }
 ],
 "metadata": {
  "kernelspec": {
   "display_name": "Python 3",
   "language": "python",
   "name": "python3"
  },
  "language_info": {
   "codemirror_mode": {
    "name": "ipython",
    "version": 3
   },
   "file_extension": ".py",
   "mimetype": "text/x-python",
   "name": "python",
   "nbconvert_exporter": "python",
   "pygments_lexer": "ipython3",
   "version": "3.6.3"
  }
 },
 "nbformat": 4,
 "nbformat_minor": 2
}
